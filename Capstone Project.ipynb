{
 "cells": [
  {
   "cell_type": "markdown",
   "metadata": {},
   "source": [
    "# Capstone Project - Car accident severity\n",
    "### Applied Data Science Capstone by IBM/Coursera\n"
   ]
  },
  {
   "cell_type": "markdown",
   "metadata": {},
   "source": [
    "## Table of contents\n",
    "* [Introduction](#introduction)\n",
    "* [Data acquisition and cleaning](#data)\n",
    "* [Exploratory Data Analysis](#methodology)\n",
    "* [Analysis](#analysis)\n",
    "* [Results and Discussion](#results)\n",
    "* [Conclusion](#conclusion)"
   ]
  },
  {
   "cell_type": "markdown",
   "metadata": {},
   "source": [
    "<h1>1. Introduction</h1>\n",
    "\n",
    "<h2>1.1 Background</h2>\n",
    "\n",
    "The effective treatment of road accidents and thus the enhancement of road safety is a major concern to societies due to the losses in human lives and the economic and social costs.The effective treatment of road accidents and thus the enhancement of road safety is a major concern to societies due to the losses in human lives and the economic and social costs. In USA for 2016, NHTSA  data shows 37,461 people were killed in 34,436 motor vehicle crashes, an average of 102 per day. Over the years, tremendous efforts have been made by governments, transportation researchers and practitioners in order to improve road safety. Creating a model that predicts accidents and their severity can be advantageous for many reasons, as road design can be even more optimized, drivers can be informed on the danger they are facing based on their personal information and the current environmental conditions.\n",
    "\n",
    "<h2>1.2 Problem</h2>\n",
    "\n",
    "A number of factors contribute to the risk of collisions, including vehicle design and type, road design and environment, driving skills, as well as weather and light conditions. This project aims to predict the severity of a possible accident based on factors that are set before the accident happen like the driver’s age, the area the driver is currently at, including the light conditions and the time (hour) of the day.\n",
    "\n",
    "\n",
    "<h2>1.3 Interest</h2>\n",
    "\n",
    "Government organizations that administrate road safety would be interested in accurate prediction of accidents and its severity, like the National Highway Traffic Safety Administration. The project can be expanded into an application that uses ‘live’ data on a driver’s information, location and environmental conditions and warn him/her to slow down or even use other safer paths to his/her destination.\n"
   ]
  },
  {
   "cell_type": "markdown",
   "metadata": {},
   "source": [
    "<h1>2. Data acquisition and cleaning</h1>\n",
    "\n",
    "<h2>2.1 Data sources</h2>\n",
    "\n",
    "The data used on the project comes from a dataset called UK Car Accidents. It is collected from the UK Department for Transport and can be found on Kaggle. The dataset starts at 2005, ends at 2015 and is composed by three different csv files (Accidents, Causalities, and Vehicles). It was selected because it offered a great amount of variables (features) for each accident like personal information on the driver, environmental conditions and vehicle information. Also, the accidents were classified into three types of severity (1. Fatal, 2. Serious, 3. Slight) which gave promise for a model with more specific predictions than most datasets that offered binary classification for the accidents severity. \n",
    "\n",
    "<h2>2.2 Data cleaning</h2>\n",
    "\n",
    "The 3 different csv files were joined into one data frame using the common column ‘Accident Index’. The data was in a good condition as most of the variables were already categorical variables (integers) and there were few null values (172 null values for the ‘Time’ column only). \n",
    "Multiple columns such as ‘Weather Conditions’, ‘Road Surface Conditions’ and others, included Unknown or Other values marked as -1 or 9 accordingly. All the rows that had either value was removed from the data.\n",
    "Additionally, the ‘Age Band of Driver’ column included values for extremely under aged drivers that were under 15 years old. The rows containing these values were removed from the data.\n",
    "Finally, a number of functions were created that converted categorical variables to the corresponding string which described the variable’s value (e.g. for ‘Day’ column: 1 converted to ‘Monday’, 2 converted to ‘Tuesday’ etc.). These functions were needed in order to better explore the relations between the data and create easy to read statistical plots. \n"
   ]
  },
  {
   "cell_type": "code",
   "execution_count": 1,
   "metadata": {},
   "outputs": [
    {
     "name": "stderr",
     "output_type": "stream",
     "text": [
      "C:\\Users\\DIMITRIS\\anaconda3\\lib\\site-packages\\IPython\\core\\interactiveshell.py:3063: DtypeWarning: Columns (31) have mixed types.Specify dtype option on import or set low_memory=False.\n",
      "  interactivity=interactivity, compiler=compiler, result=result)\n"
     ]
    }
   ],
   "source": [
    "#Importing pandas and data (3 csv files).\n",
    "import pandas as pd\n",
    "import numpy as np \n",
    "\n",
    "center = pd.read_csv('Vehicles0514.csv')\n",
    "left = pd.read_csv('Accidents0514.csv')\n",
    "right = pd.read_csv('Casualties0514.csv')"
   ]
  },
  {
   "cell_type": "code",
   "execution_count": 2,
   "metadata": {},
   "outputs": [],
   "source": [
    "#Discard the columns we don't plan to use from each table.\n",
    "left.drop(['Date','Location_Easting_OSGR','Location_Northing_OSGR','Longitude','Latitude','Police_Force','Number_of_Vehicles','Number_of_Casualties','Local_Authority_(District)','Local_Authority_(Highway)','1st_Road_Class','1st_Road_Number','Junction_Detail','Speed_limit','Junction_Control','2nd_Road_Class','2nd_Road_Number','Pedestrian_Crossing-Human_Control','Pedestrian_Crossing-Physical_Facilities','Special_Conditions_at_Site','Carriageway_Hazards','Did_Police_Officer_Attend_Scene_of_Accident','LSOA_of_Accident_Location'],axis=1, inplace=True)\n",
    "right.drop(['Casualty_Class','Casualty_Type','Casualty_Severity','Sex_of_Casualty','Age_of_Casualty','Age_Band_of_Casualty','Vehicle_Reference','Casualty_Reference','Pedestrian_Location','Pedestrian_Movement','Car_Passenger','Bus_or_Coach_Passenger','Pedestrian_Road_Maintenance_Worker','Casualty_Home_Area_Type'],inplace=True,axis=1)\n",
    "center.drop(['Sex_of_Driver','Driver_IMD_Decile','Engine_Capacity_(CC)','Driver_IMD_Decile','Hit_Object_off_Carriageway','Vehicle_Leaving_Carriageway','Vehicle_Reference','Towing_and_Articulation','Vehicle_Manoeuvre','Vehicle_Location-Restricted_Lane','Junction_Location','Skidding_and_Overturning','Hit_Object_in_Carriageway','1st_Point_of_Impact','Was_Vehicle_Left_Hand_Drive?','Journey_Purpose_of_Driver','Age_of_Driver','Propulsion_Code','Driver_Home_Area_Type'],inplace=True,axis=1)"
   ]
  },
  {
   "cell_type": "code",
   "execution_count": 3,
   "metadata": {},
   "outputs": [
    {
     "data": {
      "text/plain": [
       "Index(['Accident_Index', 'Accident_Severity', 'Day_of_Week', 'Time',\n",
       "       'Road_Type', 'Light_Conditions', 'Weather_Conditions',\n",
       "       'Road_Surface_Conditions', 'Urban_or_Rural_Area', 'Vehicle_Type',\n",
       "       'Age_Band_of_Driver', 'Age_of_Vehicle'],\n",
       "      dtype='object')"
      ]
     },
     "execution_count": 3,
     "metadata": {},
     "output_type": "execute_result"
    }
   ],
   "source": [
    "#Join the 3 data sets on the common column Accident Index.\n",
    "df_temp = pd.merge(left, right, on='Accident_Index')\n",
    "df = pd.merge(df_temp, center, on='Accident_Index')\n",
    "df.columns"
   ]
  },
  {
   "cell_type": "code",
   "execution_count": 4,
   "metadata": {},
   "outputs": [],
   "source": [
    "#Remove Accident Index column since we need it just for joining the tables.\n",
    "df.drop(['Accident_Index'],inplace=True,axis=1)"
   ]
  },
  {
   "cell_type": "code",
   "execution_count": 11,
   "metadata": {},
   "outputs": [
    {
     "data": {
      "text/plain": [
       "(2892839, 11)"
      ]
     },
     "execution_count": 11,
     "metadata": {},
     "output_type": "execute_result"
    }
   ],
   "source": [
    "#Dimensions of our dataset at this point\n",
    "df.shape"
   ]
  },
  {
   "cell_type": "markdown",
   "metadata": {},
   "source": [
    "Unknown values in our data have the value -1 or a specific number\n",
    "for the particular column used for unknown values.\n",
    "Let's start the data cleaning process by removing all unknown values."
   ]
  },
  {
   "cell_type": "markdown",
   "metadata": {},
   "source": [
    "In the Weather Conditions column, values of 9 and -1 means 'unknown'. Thus, we remove them from our data. The same pattern persists in other columns as well."
   ]
  },
  {
   "cell_type": "code",
   "execution_count": 5,
   "metadata": {},
   "outputs": [
    {
     "data": {
      "text/plain": [
       "Index(['Accident_Severity', 'Day_of_Week', 'Time', 'Road_Type',\n",
       "       'Light_Conditions', 'Weather_Conditions', 'Road_Surface_Conditions',\n",
       "       'Urban_or_Rural_Area', 'Vehicle_Type', 'Age_Band_of_Driver',\n",
       "       'Age_of_Vehicle'],\n",
       "      dtype='object')"
      ]
     },
     "execution_count": 5,
     "metadata": {},
     "output_type": "execute_result"
    }
   ],
   "source": [
    "df = df[df.Weather_Conditions != 9]\n",
    "df = df[df.Weather_Conditions != -1]\n",
    "df.columns"
   ]
  },
  {
   "cell_type": "code",
   "execution_count": 7,
   "metadata": {},
   "outputs": [],
   "source": [
    "#Removing the unknown or invalid values.\n",
    "df = df[df.Road_Surface_Conditions != -1]\n",
    "df = df[df.Urban_or_Rural_Area != 3]\n",
    "df = df[df.Vehicle_Type != -1]\n",
    "df = df[df.Age_Band_of_Driver != 3]\n",
    "df = df[df.Age_Band_of_Driver != -1]\n",
    "df = df[df.Age_Band_of_Driver != 1]\n",
    "df = df[df.Age_Band_of_Driver != 2]\n",
    "df = df[df.Age_of_Vehicle != -1]\n",
    "df = df[df.Road_Type != 9]"
   ]
  },
  {
   "cell_type": "code",
   "execution_count": 8,
   "metadata": {},
   "outputs": [
    {
     "data": {
      "text/plain": [
       "Accident_Severity            0\n",
       "Day_of_Week                  0\n",
       "Time                       175\n",
       "Road_Type                    0\n",
       "Light_Conditions             0\n",
       "Weather_Conditions           0\n",
       "Road_Surface_Conditions      0\n",
       "Urban_or_Rural_Area          0\n",
       "Vehicle_Type                 0\n",
       "Age_Band_of_Driver           0\n",
       "Age_of_Vehicle               0\n",
       "dtype: int64"
      ]
     },
     "execution_count": 8,
     "metadata": {},
     "output_type": "execute_result"
    }
   ],
   "source": [
    "#Check for null values.\n",
    "df.isnull().sum()"
   ]
  },
  {
   "cell_type": "code",
   "execution_count": 65,
   "metadata": {},
   "outputs": [],
   "source": [
    "#Drop null values.\n",
    "df.dropna(subset=['Time'],axis=0,inplace=True)"
   ]
  },
  {
   "cell_type": "code",
   "execution_count": 9,
   "metadata": {},
   "outputs": [
    {
     "data": {
      "text/plain": [
       "Accident_Severity            0\n",
       "Day_of_Week                  0\n",
       "Time                       175\n",
       "Road_Type                    0\n",
       "Light_Conditions             0\n",
       "Weather_Conditions           0\n",
       "Road_Surface_Conditions      0\n",
       "Urban_or_Rural_Area          0\n",
       "Vehicle_Type                 0\n",
       "Age_Band_of_Driver           0\n",
       "Age_of_Vehicle               0\n",
       "dtype: int64"
      ]
     },
     "execution_count": 9,
     "metadata": {},
     "output_type": "execute_result"
    }
   ],
   "source": [
    "df.isnull().sum()"
   ]
  },
  {
   "cell_type": "code",
   "execution_count": 10,
   "metadata": {},
   "outputs": [
    {
     "data": {
      "text/plain": [
       "(2892839, 11)"
      ]
     },
     "execution_count": 10,
     "metadata": {},
     "output_type": "execute_result"
    }
   ],
   "source": [
    "#Dimensions of our dataset after cleaning.\n",
    "df.shape"
   ]
  },
  {
   "cell_type": "markdown",
   "metadata": {},
   "source": [
    "We cleaned the data, so we can now explore the relationships between the variables."
   ]
  },
  {
   "cell_type": "markdown",
   "metadata": {},
   "source": [
    "<h1>3.Exploratory Data Analysis</h1>"
   ]
  },
  {
   "cell_type": "markdown",
   "metadata": {},
   "source": [
    "<h3> Cramer's V </h3>"
   ]
  },
  {
   "cell_type": "code",
   "execution_count": 12,
   "metadata": {},
   "outputs": [],
   "source": [
    "import matplotlib.pyplot as plt\n",
    "import seaborn as sns\n",
    "%matplotlib inline"
   ]
  },
  {
   "cell_type": "markdown",
   "metadata": {},
   "source": [
    "Analyzing the relation between each one of the features with the Accident Severity was a difficult task for 2 reasons. Firstly, I needed a statistic that measures correlation between categorical variables. After some research on the topic, I decided that the optimal metric for my case is  Cramer’s V. It is based on a nominal variation of Pearson’s Chi-Square Test, and comes built-in with some great benefits:\n",
    "1.\tSimilarly to correlation, the output is in the range of [0,1], where 0 means no association and 1 is full association. (Unlike correlation, there are no negative values, as there’s no such thing as a negative association. Either there is, or there isn’t)\n",
    "\n",
    "2.\tLike correlation, Cramer’s V is symmetrical\n",
    "\n",
    "After testing the association between the variables and the severity, I found them to be highly unassociated.And this takes us to the second reason that analyzing the correlation between the severity and the features is a difficult task. The 84% of the accident have a Slight severity which makes the dataset very imbalanced since this is the feature we try to predict. The solution to this problem, at least for finding associations between the variables and the accidents was to test them against the total amount of accidents each category was involved. For example, 83% of the accidents happened during Fine weather which makes the feature not a good predictor for the model. In some cases I further explored the frequency of Fatal or Serious accidents against a particular feature in order to gain deeper insights."
   ]
  },
  {
   "cell_type": "code",
   "execution_count": 54,
   "metadata": {},
   "outputs": [],
   "source": [
    "#Cramer's V python function\n",
    "import scipy.stats as ss\n",
    "def cramers_v(x, y):\n",
    "    confusion_matrix = pd.crosstab(x,y)\n",
    "    chi2 = ss.chi2_contingency(confusion_matrix)[0]\n",
    "    n = confusion_matrix.sum().sum()\n",
    "    phi2 = chi2/n\n",
    "    r,k = confusion_matrix.shape\n",
    "    phi2corr = max(0, phi2-((k-1)*(r-1))/(n-1))\n",
    "    rcorr = r-((r-1)**2)/(n-1)\n",
    "    kcorr = k-((k-1)**2)/(n-1)\n",
    "    return np.sqrt(phi2corr/min((kcorr-1),(rcorr-1)))"
   ]
  },
  {
   "cell_type": "markdown",
   "metadata": {},
   "source": [
    "The following code shows the results of measuring the features association with the Accident’s Severity (from the project’s Jupyter Notebook). The highest value is 0.14 for the “Urban or Rural Area” feature which is still very low (0 means no association, 1 means perfect association)."
   ]
  },
  {
   "cell_type": "code",
   "execution_count": 55,
   "metadata": {},
   "outputs": [
    {
     "data": {
      "text/plain": [
       "0.032381111406731986"
      ]
     },
     "execution_count": 55,
     "metadata": {},
     "output_type": "execute_result"
    }
   ],
   "source": [
    "cramers_v(df['Day_of_Week'],df['Accident_Severity'])"
   ]
  },
  {
   "cell_type": "code",
   "execution_count": 56,
   "metadata": {},
   "outputs": [
    {
     "data": {
      "text/plain": [
       "0.032381111406731986"
      ]
     },
     "execution_count": 56,
     "metadata": {},
     "output_type": "execute_result"
    }
   ],
   "source": [
    "cramers_v(df['Accident_Severity'],df['Day_of_Week'])"
   ]
  },
  {
   "cell_type": "markdown",
   "metadata": {},
   "source": [
    "Cramer's V is indeed symmetrical, it gives the same value no matter how we order the input features."
   ]
  },
  {
   "cell_type": "code",
   "execution_count": 70,
   "metadata": {},
   "outputs": [
    {
     "data": {
      "text/plain": [
       "0.11954514766863902"
      ]
     },
     "execution_count": 70,
     "metadata": {},
     "output_type": "execute_result"
    }
   ],
   "source": [
    "cramers_v(df['Accident_Severity'],df['Time'])"
   ]
  },
  {
   "cell_type": "code",
   "execution_count": 71,
   "metadata": {},
   "outputs": [
    {
     "data": {
      "text/plain": [
       "0.04786839404913596"
      ]
     },
     "execution_count": 71,
     "metadata": {},
     "output_type": "execute_result"
    }
   ],
   "source": [
    "cramers_v(df['Accident_Severity'],df['Road_Type'])"
   ]
  },
  {
   "cell_type": "code",
   "execution_count": 72,
   "metadata": {},
   "outputs": [
    {
     "data": {
      "text/plain": [
       "0.08277667961628699"
      ]
     },
     "execution_count": 72,
     "metadata": {},
     "output_type": "execute_result"
    }
   ],
   "source": [
    "cramers_v(df['Accident_Severity'],df['Light_Conditions'])"
   ]
  },
  {
   "cell_type": "code",
   "execution_count": 73,
   "metadata": {},
   "outputs": [
    {
     "data": {
      "text/plain": [
       "0.03684736395293936"
      ]
     },
     "execution_count": 73,
     "metadata": {},
     "output_type": "execute_result"
    }
   ],
   "source": [
    "cramers_v(df['Accident_Severity'],df['Weather_Conditions'])"
   ]
  },
  {
   "cell_type": "code",
   "execution_count": 74,
   "metadata": {},
   "outputs": [
    {
     "data": {
      "text/plain": [
       "0.009163015415411712"
      ]
     },
     "execution_count": 74,
     "metadata": {},
     "output_type": "execute_result"
    }
   ],
   "source": [
    "cramers_v(df['Accident_Severity'],df['Road_Surface_Conditions'])"
   ]
  },
  {
   "cell_type": "code",
   "execution_count": 75,
   "metadata": {},
   "outputs": [
    {
     "data": {
      "text/plain": [
       "0.144498400346582"
      ]
     },
     "execution_count": 75,
     "metadata": {},
     "output_type": "execute_result"
    }
   ],
   "source": [
    "cramers_v(df['Accident_Severity'],df['Urban_or_Rural_Area'])"
   ]
  },
  {
   "cell_type": "code",
   "execution_count": 76,
   "metadata": {},
   "outputs": [
    {
     "data": {
      "text/plain": [
       "0.10280761620992851"
      ]
     },
     "execution_count": 76,
     "metadata": {},
     "output_type": "execute_result"
    }
   ],
   "source": [
    "cramers_v(df['Accident_Severity'],df['Vehicle_Type'])"
   ]
  },
  {
   "cell_type": "code",
   "execution_count": 77,
   "metadata": {},
   "outputs": [
    {
     "data": {
      "text/plain": [
       "0.030983211629291886"
      ]
     },
     "execution_count": 77,
     "metadata": {},
     "output_type": "execute_result"
    }
   ],
   "source": [
    "cramers_v(df['Accident_Severity'],df['Age_Band_of_Driver'])"
   ]
  },
  {
   "cell_type": "code",
   "execution_count": 82,
   "metadata": {},
   "outputs": [
    {
     "data": {
      "text/plain": [
       "0.02540612571603147"
      ]
     },
     "execution_count": 82,
     "metadata": {},
     "output_type": "execute_result"
    }
   ],
   "source": [
    "cramers_v(df['Accident_Severity'],df['Age_of_Vehicle'])"
   ]
  },
  {
   "cell_type": "markdown",
   "metadata": {},
   "source": [
    "<h2> Relation of Accidents with Day of the Week </h2>"
   ]
  },
  {
   "cell_type": "code",
   "execution_count": 43,
   "metadata": {},
   "outputs": [
    {
     "data": {
      "text/html": [
       "<div>\n",
       "<style scoped>\n",
       "    .dataframe tbody tr th:only-of-type {\n",
       "        vertical-align: middle;\n",
       "    }\n",
       "\n",
       "    .dataframe tbody tr th {\n",
       "        vertical-align: top;\n",
       "    }\n",
       "\n",
       "    .dataframe thead th {\n",
       "        text-align: right;\n",
       "    }\n",
       "</style>\n",
       "<table border=\"1\" class=\"dataframe\">\n",
       "  <thead>\n",
       "    <tr style=\"text-align: right;\">\n",
       "      <th></th>\n",
       "      <th>Day</th>\n",
       "      <th>Total_Accidents</th>\n",
       "    </tr>\n",
       "  </thead>\n",
       "  <tbody>\n",
       "    <tr>\n",
       "      <th>6</th>\n",
       "      <td>1</td>\n",
       "      <td>493543</td>\n",
       "    </tr>\n",
       "    <tr>\n",
       "      <th>4</th>\n",
       "      <td>2</td>\n",
       "      <td>600987</td>\n",
       "    </tr>\n",
       "    <tr>\n",
       "      <th>3</th>\n",
       "      <td>3</td>\n",
       "      <td>627079</td>\n",
       "    </tr>\n",
       "    <tr>\n",
       "      <th>2</th>\n",
       "      <td>4</td>\n",
       "      <td>632503</td>\n",
       "    </tr>\n",
       "    <tr>\n",
       "      <th>1</th>\n",
       "      <td>5</td>\n",
       "      <td>636896</td>\n",
       "    </tr>\n",
       "    <tr>\n",
       "      <th>0</th>\n",
       "      <td>6</td>\n",
       "      <td>707791</td>\n",
       "    </tr>\n",
       "    <tr>\n",
       "      <th>5</th>\n",
       "      <td>7</td>\n",
       "      <td>588794</td>\n",
       "    </tr>\n",
       "  </tbody>\n",
       "</table>\n",
       "</div>"
      ],
      "text/plain": [
       "   Day  Total_Accidents\n",
       "6    1           493543\n",
       "4    2           600987\n",
       "3    3           627079\n",
       "2    4           632503\n",
       "1    5           636896\n",
       "0    6           707791\n",
       "5    7           588794"
      ]
     },
     "execution_count": 43,
     "metadata": {},
     "output_type": "execute_result"
    }
   ],
   "source": [
    "#Count the amount of accidents per day for each day, store them into a new dataframe and sort them.\n",
    "df_day = df['Day_of_Week']\n",
    "df_day_count = df_day.value_counts().rename_axis('Day').reset_index(name='Total_Accidents')\n",
    "df_day_count = df_day_count.sort_values(by ='Day')\n",
    "df_day_count"
   ]
  },
  {
   "cell_type": "code",
   "execution_count": 44,
   "metadata": {},
   "outputs": [],
   "source": [
    "#Create function that converts Day_of_Week into a categorical variable.\n",
    "def day(x):\n",
    "    if x==1:\n",
    "        return 'Monday'\n",
    "    if x==2:\n",
    "        return 'Tuesday'\n",
    "    if x==3:\n",
    "        return 'Wednesday'\n",
    "    if x==4:\n",
    "        return 'Thursday'\n",
    "    if x==5:\n",
    "        return 'Friday'\n",
    "    if x==6:\n",
    "        return 'Saturday'\n",
    "    if x==7:\n",
    "        return 'Sunday'"
   ]
  },
  {
   "cell_type": "code",
   "execution_count": 45,
   "metadata": {},
   "outputs": [
    {
     "data": {
      "text/html": [
       "<div>\n",
       "<style scoped>\n",
       "    .dataframe tbody tr th:only-of-type {\n",
       "        vertical-align: middle;\n",
       "    }\n",
       "\n",
       "    .dataframe tbody tr th {\n",
       "        vertical-align: top;\n",
       "    }\n",
       "\n",
       "    .dataframe thead th {\n",
       "        text-align: right;\n",
       "    }\n",
       "</style>\n",
       "<table border=\"1\" class=\"dataframe\">\n",
       "  <thead>\n",
       "    <tr style=\"text-align: right;\">\n",
       "      <th></th>\n",
       "      <th>Day</th>\n",
       "      <th>Total_Accidents</th>\n",
       "    </tr>\n",
       "  </thead>\n",
       "  <tbody>\n",
       "    <tr>\n",
       "      <th>6</th>\n",
       "      <td>Monday</td>\n",
       "      <td>493543</td>\n",
       "    </tr>\n",
       "    <tr>\n",
       "      <th>4</th>\n",
       "      <td>Tuesday</td>\n",
       "      <td>600987</td>\n",
       "    </tr>\n",
       "    <tr>\n",
       "      <th>3</th>\n",
       "      <td>Wednesday</td>\n",
       "      <td>627079</td>\n",
       "    </tr>\n",
       "    <tr>\n",
       "      <th>2</th>\n",
       "      <td>Thursday</td>\n",
       "      <td>632503</td>\n",
       "    </tr>\n",
       "    <tr>\n",
       "      <th>1</th>\n",
       "      <td>Friday</td>\n",
       "      <td>636896</td>\n",
       "    </tr>\n",
       "    <tr>\n",
       "      <th>0</th>\n",
       "      <td>Saturday</td>\n",
       "      <td>707791</td>\n",
       "    </tr>\n",
       "    <tr>\n",
       "      <th>5</th>\n",
       "      <td>Sunday</td>\n",
       "      <td>588794</td>\n",
       "    </tr>\n",
       "  </tbody>\n",
       "</table>\n",
       "</div>"
      ],
      "text/plain": [
       "         Day  Total_Accidents\n",
       "6     Monday           493543\n",
       "4    Tuesday           600987\n",
       "3  Wednesday           627079\n",
       "2   Thursday           632503\n",
       "1     Friday           636896\n",
       "0   Saturday           707791\n",
       "5     Sunday           588794"
      ]
     },
     "execution_count": 45,
     "metadata": {},
     "output_type": "execute_result"
    }
   ],
   "source": [
    "#Convert.\n",
    "df_day_count['Day']=df_day_count['Day'].apply(lambda x: day(x))\n",
    "df_day_count"
   ]
  },
  {
   "cell_type": "code",
   "execution_count": 49,
   "metadata": {},
   "outputs": [
    {
     "data": {
      "text/plain": [
       "Text(0.5, 1.0, 'Total Accidents per Day')"
      ]
     },
     "execution_count": 49,
     "metadata": {},
     "output_type": "execute_result"
    },
    {
     "data": {
      "image/png": "[encoded data removed]",
      "text/plain": [
       "<Figure size 1152x864 with 1 Axes>"
      ]
     },
     "metadata": {
      "needs_background": "light"
     },
     "output_type": "display_data"
    }
   ],
   "source": [
    "#Plot Accidents per Day.\n",
    "plt.figure(figsize=(16,12))\n",
    "ax=sns.barplot('Day','Total_Accidents',data=df_day_count,ci=None, palette='Set2')\n",
    "ax.set_xlabel(\"Day\",fontsize=25)\n",
    "ax.set_ylabel(\"Total Accidents\",fontsize=25)\n",
    "ax.tick_params(labelsize=18)\n",
    "plt.title('Total Accidents per Day',fontsize=30)"
   ]
  },
  {
   "cell_type": "markdown",
   "metadata": {},
   "source": [
    "Looking at the barplot we can see that accidents are distributed in a similar way among each day of the week, 5 of the 7 days have a total of accidents in the range 300,000 - 350,000. Monday has the least amount of accidents while most accidents happen on Saturday, a day dedicated usually for amusement activities (clubing, traveling,alcohol etc.) which increase traffic and as it seems, the chance the of a car accident. In conclusion, since the accidents are similarly distributed among the days of the week, we will not use this variable as a predictor. "
   ]
  },
  {
   "cell_type": "code",
   "execution_count": 54,
   "metadata": {},
   "outputs": [],
   "source": [
    "#Drop the 'Day_of_week' column\n",
    "df.drop(['Day_of_Week'],inplace=True,axis=1)"
   ]
  },
  {
   "cell_type": "markdown",
   "metadata": {},
   "source": [
    "<h2> Relation of Accidents with Hour of the Day </h2>"
   ]
  },
  {
   "cell_type": "code",
   "execution_count": 68,
   "metadata": {},
   "outputs": [],
   "source": [
    "#Create function to add hour column\n",
    "def hour(string):\n",
    "    s=string[0:2]\n",
    "    return int(s)"
   ]
  },
  {
   "cell_type": "code",
   "execution_count": 69,
   "metadata": {},
   "outputs": [],
   "source": [
    "#Add Hour column\n",
    "df['Hour']=df['Time'].apply(lambda x: hour(x))"
   ]
  },
  {
   "cell_type": "code",
   "execution_count": 61,
   "metadata": {},
   "outputs": [
    {
     "data": {
      "text/html": [
       "<div>\n",
       "<style scoped>\n",
       "    .dataframe tbody tr th:only-of-type {\n",
       "        vertical-align: middle;\n",
       "    }\n",
       "\n",
       "    .dataframe tbody tr th {\n",
       "        vertical-align: top;\n",
       "    }\n",
       "\n",
       "    .dataframe thead th {\n",
       "        text-align: right;\n",
       "    }\n",
       "</style>\n",
       "<table border=\"1\" class=\"dataframe\">\n",
       "  <thead>\n",
       "    <tr style=\"text-align: right;\">\n",
       "      <th></th>\n",
       "      <th>Hour</th>\n",
       "      <th>Total_Accidents</th>\n",
       "    </tr>\n",
       "  </thead>\n",
       "  <tbody>\n",
       "    <tr>\n",
       "      <th>18</th>\n",
       "      <td>0</td>\n",
       "      <td>29979</td>\n",
       "    </tr>\n",
       "    <tr>\n",
       "      <th>19</th>\n",
       "      <td>1</td>\n",
       "      <td>20760</td>\n",
       "    </tr>\n",
       "    <tr>\n",
       "      <th>20</th>\n",
       "      <td>2</td>\n",
       "      <td>15722</td>\n",
       "    </tr>\n",
       "    <tr>\n",
       "      <th>22</th>\n",
       "      <td>3</td>\n",
       "      <td>12665</td>\n",
       "    </tr>\n",
       "    <tr>\n",
       "      <th>23</th>\n",
       "      <td>4</td>\n",
       "      <td>9851</td>\n",
       "    </tr>\n",
       "    <tr>\n",
       "      <th>21</th>\n",
       "      <td>5</td>\n",
       "      <td>15304</td>\n",
       "    </tr>\n",
       "    <tr>\n",
       "      <th>17</th>\n",
       "      <td>6</td>\n",
       "      <td>36300</td>\n",
       "    </tr>\n",
       "    <tr>\n",
       "      <th>12</th>\n",
       "      <td>7</td>\n",
       "      <td>95904</td>\n",
       "    </tr>\n",
       "    <tr>\n",
       "      <th>3</th>\n",
       "      <td>8</td>\n",
       "      <td>165889</td>\n",
       "    </tr>\n",
       "    <tr>\n",
       "      <th>10</th>\n",
       "      <td>9</td>\n",
       "      <td>111237</td>\n",
       "    </tr>\n",
       "    <tr>\n",
       "      <th>11</th>\n",
       "      <td>10</td>\n",
       "      <td>105809</td>\n",
       "    </tr>\n",
       "    <tr>\n",
       "      <th>8</th>\n",
       "      <td>11</td>\n",
       "      <td>124949</td>\n",
       "    </tr>\n",
       "    <tr>\n",
       "      <th>7</th>\n",
       "      <td>12</td>\n",
       "      <td>144854</td>\n",
       "    </tr>\n",
       "    <tr>\n",
       "      <th>5</th>\n",
       "      <td>13</td>\n",
       "      <td>148024</td>\n",
       "    </tr>\n",
       "    <tr>\n",
       "      <th>6</th>\n",
       "      <td>14</td>\n",
       "      <td>147144</td>\n",
       "    </tr>\n",
       "    <tr>\n",
       "      <th>2</th>\n",
       "      <td>15</td>\n",
       "      <td>176760</td>\n",
       "    </tr>\n",
       "    <tr>\n",
       "      <th>1</th>\n",
       "      <td>16</td>\n",
       "      <td>195171</td>\n",
       "    </tr>\n",
       "    <tr>\n",
       "      <th>0</th>\n",
       "      <td>17</td>\n",
       "      <td>214750</td>\n",
       "    </tr>\n",
       "    <tr>\n",
       "      <th>4</th>\n",
       "      <td>18</td>\n",
       "      <td>161621</td>\n",
       "    </tr>\n",
       "    <tr>\n",
       "      <th>9</th>\n",
       "      <td>19</td>\n",
       "      <td>119231</td>\n",
       "    </tr>\n",
       "    <tr>\n",
       "      <th>13</th>\n",
       "      <td>20</td>\n",
       "      <td>87618</td>\n",
       "    </tr>\n",
       "    <tr>\n",
       "      <th>14</th>\n",
       "      <td>21</td>\n",
       "      <td>70154</td>\n",
       "    </tr>\n",
       "    <tr>\n",
       "      <th>15</th>\n",
       "      <td>22</td>\n",
       "      <td>61181</td>\n",
       "    </tr>\n",
       "    <tr>\n",
       "      <th>16</th>\n",
       "      <td>23</td>\n",
       "      <td>45631</td>\n",
       "    </tr>\n",
       "  </tbody>\n",
       "</table>\n",
       "</div>"
      ],
      "text/plain": [
       "    Hour  Total_Accidents\n",
       "18     0            29979\n",
       "19     1            20760\n",
       "20     2            15722\n",
       "22     3            12665\n",
       "23     4             9851\n",
       "21     5            15304\n",
       "17     6            36300\n",
       "12     7            95904\n",
       "3      8           165889\n",
       "10     9           111237\n",
       "11    10           105809\n",
       "8     11           124949\n",
       "7     12           144854\n",
       "5     13           148024\n",
       "6     14           147144\n",
       "2     15           176760\n",
       "1     16           195171\n",
       "0     17           214750\n",
       "4     18           161621\n",
       "9     19           119231\n",
       "13    20            87618\n",
       "14    21            70154\n",
       "15    22            61181\n",
       "16    23            45631"
      ]
     },
     "execution_count": 61,
     "metadata": {},
     "output_type": "execute_result"
    }
   ],
   "source": [
    "#Count the amount of accidents per hour, store them into a new dataframe and sort them.\n",
    "df_hour = df['Hour']\n",
    "df_hour_count = df_hour.value_counts().rename_axis('Hour').reset_index(name='Total_Accidents')\n",
    "df_hour_count = df_hour_count.sort_values(by ='Hour')\n",
    "df_hour_count"
   ]
  },
  {
   "cell_type": "code",
   "execution_count": 146,
   "metadata": {},
   "outputs": [
    {
     "data": {
      "text/plain": [
       "Text(0.5, 1.0, 'Total Accidents per Hour')"
      ]
     },
     "execution_count": 146,
     "metadata": {},
     "output_type": "execute_result"
    },
    {
     "data": {
      "image/png": "[encoded data removed]",
      "text/plain": [
       "<Figure size 1440x864 with 1 Axes>"
      ]
     },
     "metadata": {
      "needs_background": "light"
     },
     "output_type": "display_data"
    }
   ],
   "source": [
    "#Plot Accidents per Hour.\n",
    "plt.figure(figsize=(20,12))\n",
    "ax=sns.barplot('Hour','Total_Accidents',data=df_hour_count,ci=None, palette='Set2')\n",
    "ax.set_xlabel(\"Hour\",fontsize=25)\n",
    "ax.set_ylabel(\"Total Accidents\",fontsize=25)\n",
    "ax.tick_params(labelsize=18)\n",
    "plt.title('Total Accidents per Hour',fontsize=30)"
   ]
  },
  {
   "cell_type": "markdown",
   "metadata": {},
   "source": [
    "The barplot shows the distribution of accidents among the hours of a day. We can notice a high variance on the amount of accidents, the early hours of a day have a small amount of accidents which is normal considering the reduced traffic at these hours. Later on, the amount of accidents rises during busy hours (8, 16-18). This feature of the data can be used as a predictor for our model. "
   ]
  },
  {
   "cell_type": "markdown",
   "metadata": {},
   "source": [
    "<h2> Relation of Accidents with Road Type </h2>"
   ]
  },
  {
   "cell_type": "code",
   "execution_count": 73,
   "metadata": {},
   "outputs": [
    {
     "data": {
      "text/html": [
       "<div>\n",
       "<style scoped>\n",
       "    .dataframe tbody tr th:only-of-type {\n",
       "        vertical-align: middle;\n",
       "    }\n",
       "\n",
       "    .dataframe tbody tr th {\n",
       "        vertical-align: top;\n",
       "    }\n",
       "\n",
       "    .dataframe thead th {\n",
       "        text-align: right;\n",
       "    }\n",
       "</style>\n",
       "<table border=\"1\" class=\"dataframe\">\n",
       "  <thead>\n",
       "    <tr style=\"text-align: right;\">\n",
       "      <th></th>\n",
       "      <th>Road_Type</th>\n",
       "      <th>Total_Accidents</th>\n",
       "    </tr>\n",
       "  </thead>\n",
       "  <tbody>\n",
       "    <tr>\n",
       "      <th>0</th>\n",
       "      <td>6</td>\n",
       "      <td>1656803</td>\n",
       "    </tr>\n",
       "    <tr>\n",
       "      <th>1</th>\n",
       "      <td>3</td>\n",
       "      <td>450481</td>\n",
       "    </tr>\n",
       "    <tr>\n",
       "      <th>2</th>\n",
       "      <td>1</td>\n",
       "      <td>141710</td>\n",
       "    </tr>\n",
       "    <tr>\n",
       "      <th>3</th>\n",
       "      <td>2</td>\n",
       "      <td>31883</td>\n",
       "    </tr>\n",
       "    <tr>\n",
       "      <th>4</th>\n",
       "      <td>7</td>\n",
       "      <td>28682</td>\n",
       "    </tr>\n",
       "  </tbody>\n",
       "</table>\n",
       "</div>"
      ],
      "text/plain": [
       "   Road_Type  Total_Accidents\n",
       "0          6          1656803\n",
       "1          3           450481\n",
       "2          1           141710\n",
       "3          2            31883\n",
       "4          7            28682"
      ]
     },
     "execution_count": 73,
     "metadata": {},
     "output_type": "execute_result"
    }
   ],
   "source": [
    "#Count the amount of accidents per road type and store them into a new dataframe.\n",
    "df_road_type = df['Road_Type']\n",
    "df_road_t_count = df_road_type.value_counts().rename_axis('Road_Type').reset_index(name='Total_Accidents')\n",
    "df_road_t_count"
   ]
  },
  {
   "cell_type": "markdown",
   "metadata": {},
   "source": [
    "Using the dataset's Attribute Information, we can convert the Road_Type column into a categorical variable, in order to draw conclusions."
   ]
  },
  {
   "cell_type": "code",
   "execution_count": 76,
   "metadata": {},
   "outputs": [],
   "source": [
    "#Create function that converts Road_Type to a categorical variable.\n",
    "def road_type(x):\n",
    "    if x==1:\n",
    "        return 'Roundabout'\n",
    "    if x==2:\n",
    "        return 'One way street'\n",
    "    if x==3:\n",
    "        return 'Dual carriageway'\n",
    "    if x==6:\n",
    "        return 'Single carriageway'\n",
    "    if x==7:\n",
    "        return 'Slip Road'"
   ]
  },
  {
   "cell_type": "code",
   "execution_count": 77,
   "metadata": {},
   "outputs": [
    {
     "data": {
      "text/html": [
       "<div>\n",
       "<style scoped>\n",
       "    .dataframe tbody tr th:only-of-type {\n",
       "        vertical-align: middle;\n",
       "    }\n",
       "\n",
       "    .dataframe tbody tr th {\n",
       "        vertical-align: top;\n",
       "    }\n",
       "\n",
       "    .dataframe thead th {\n",
       "        text-align: right;\n",
       "    }\n",
       "</style>\n",
       "<table border=\"1\" class=\"dataframe\">\n",
       "  <thead>\n",
       "    <tr style=\"text-align: right;\">\n",
       "      <th></th>\n",
       "      <th>Road_Type</th>\n",
       "      <th>Total_Accidents</th>\n",
       "    </tr>\n",
       "  </thead>\n",
       "  <tbody>\n",
       "    <tr>\n",
       "      <th>0</th>\n",
       "      <td>Single carriageway</td>\n",
       "      <td>1656803</td>\n",
       "    </tr>\n",
       "    <tr>\n",
       "      <th>1</th>\n",
       "      <td>Dual carriageway</td>\n",
       "      <td>450481</td>\n",
       "    </tr>\n",
       "    <tr>\n",
       "      <th>2</th>\n",
       "      <td>Roundabout</td>\n",
       "      <td>141710</td>\n",
       "    </tr>\n",
       "    <tr>\n",
       "      <th>3</th>\n",
       "      <td>One way street</td>\n",
       "      <td>31883</td>\n",
       "    </tr>\n",
       "    <tr>\n",
       "      <th>4</th>\n",
       "      <td>Slip Road</td>\n",
       "      <td>28682</td>\n",
       "    </tr>\n",
       "  </tbody>\n",
       "</table>\n",
       "</div>"
      ],
      "text/plain": [
       "            Road_Type  Total_Accidents\n",
       "0  Single carriageway          1656803\n",
       "1    Dual carriageway           450481\n",
       "2          Roundabout           141710\n",
       "3      One way street            31883\n",
       "4           Slip Road            28682"
      ]
     },
     "execution_count": 77,
     "metadata": {},
     "output_type": "execute_result"
    }
   ],
   "source": [
    "#Convert\n",
    "df_road_t_count['Road_Type']=df_road_t_count['Road_Type'].apply(lambda x: road_type(x))\n",
    "df_road_t_count"
   ]
  },
  {
   "cell_type": "code",
   "execution_count": 144,
   "metadata": {},
   "outputs": [
    {
     "data": {
      "text/plain": [
       "Text(0.5, 1.0, 'Total Accidents per Road Type')"
      ]
     },
     "execution_count": 144,
     "metadata": {},
     "output_type": "execute_result"
    },
    {
     "data": {
      "image/png": "[encoded data removed]",
      "text/plain": [
       "<Figure size 1296x864 with 1 Axes>"
      ]
     },
     "metadata": {
      "needs_background": "light"
     },
     "output_type": "display_data"
    }
   ],
   "source": [
    "#Plot Accidents per Road Type.\n",
    "plt.figure(figsize=(18,12))\n",
    "ax=sns.barplot('Road_Type','Total_Accidents',data=df_road_t_count,ci=None, palette='Set2')\n",
    "ax.set_xlabel(\"Road Type\",fontsize=20)\n",
    "ax.set_ylabel(\"Total Accidents\",fontsize=20)\n",
    "ax.tick_params(labelsize=14)\n",
    "#Annotate the bars with percentages.\n",
    "total = df_road_t_count['Total_Accidents'].sum()\n",
    "for p in ax.patches:\n",
    "            height = p.get_height()\n",
    "            ax.text(p.get_x()+p.get_width()/2.,\n",
    "            height + 3,\n",
    "            '{:1.2f}'.format(100 * height/total),\n",
    "            ha=\"center\",fontsize=20)\n",
    "plt.title('Total Accidents per Road Type',fontsize=30)"
   ]
  },
  {
   "cell_type": "markdown",
   "metadata": {},
   "source": [
    "The barplot clearly shows an imbalance in the Road Type feature, 71.74% of the accidents happened in a Single carriageway. This makes the feature not useful for our model.  "
   ]
  },
  {
   "cell_type": "code",
   "execution_count": 85,
   "metadata": {},
   "outputs": [],
   "source": [
    "#Drop the 'Road_Type' column\n",
    "df.drop(['Road_Type'],inplace=True,axis=1)"
   ]
  },
  {
   "cell_type": "markdown",
   "metadata": {},
   "source": [
    "<h2> Relation of Accidents with Light Conditions </h2>"
   ]
  },
  {
   "cell_type": "code",
   "execution_count": 13,
   "metadata": {},
   "outputs": [
    {
     "data": {
      "text/html": [
       "<div>\n",
       "<style scoped>\n",
       "    .dataframe tbody tr th:only-of-type {\n",
       "        vertical-align: middle;\n",
       "    }\n",
       "\n",
       "    .dataframe tbody tr th {\n",
       "        vertical-align: top;\n",
       "    }\n",
       "\n",
       "    .dataframe thead th {\n",
       "        text-align: right;\n",
       "    }\n",
       "</style>\n",
       "<table border=\"1\" class=\"dataframe\">\n",
       "  <thead>\n",
       "    <tr style=\"text-align: right;\">\n",
       "      <th></th>\n",
       "      <th>Light_Conditions</th>\n",
       "      <th>Total_Accidents</th>\n",
       "    </tr>\n",
       "  </thead>\n",
       "  <tbody>\n",
       "    <tr>\n",
       "      <th>0</th>\n",
       "      <td>1</td>\n",
       "      <td>2138041</td>\n",
       "    </tr>\n",
       "    <tr>\n",
       "      <th>1</th>\n",
       "      <td>4</td>\n",
       "      <td>541678</td>\n",
       "    </tr>\n",
       "    <tr>\n",
       "      <th>2</th>\n",
       "      <td>6</td>\n",
       "      <td>179280</td>\n",
       "    </tr>\n",
       "    <tr>\n",
       "      <th>3</th>\n",
       "      <td>7</td>\n",
       "      <td>21243</td>\n",
       "    </tr>\n",
       "    <tr>\n",
       "      <th>4</th>\n",
       "      <td>5</td>\n",
       "      <td>12597</td>\n",
       "    </tr>\n",
       "  </tbody>\n",
       "</table>\n",
       "</div>"
      ],
      "text/plain": [
       "   Light_Conditions  Total_Accidents\n",
       "0                 1          2138041\n",
       "1                 4           541678\n",
       "2                 6           179280\n",
       "3                 7            21243\n",
       "4                 5            12597"
      ]
     },
     "execution_count": 13,
     "metadata": {},
     "output_type": "execute_result"
    }
   ],
   "source": [
    "#Count the amount of accidents per light conditions and store them into a new dataframe.\n",
    "df_light_c = df['Light_Conditions']\n",
    "df_light_c_count = df_light_c.value_counts().rename_axis('Light_Conditions').reset_index(name='Total_Accidents')\n",
    "df_light_c_count"
   ]
  },
  {
   "cell_type": "markdown",
   "metadata": {},
   "source": [
    "Using the dataset's Attribute Information, we can convert the Light_Conditions column into a categorical variable, in order to draw conclusions."
   ]
  },
  {
   "cell_type": "code",
   "execution_count": 14,
   "metadata": {},
   "outputs": [],
   "source": [
    "#Create function that converts Light_Conditions to a categorical variable.\n",
    "def light_conditions(x):\n",
    "    if x==1:\n",
    "        return 'Daylight'\n",
    "    if x==4:\n",
    "        return 'Darkness-lights lit'\n",
    "    if x==5:\n",
    "        return 'Darkness-lights unlit'\n",
    "    if x==6:\n",
    "        return 'Darkness-no lighting'\n",
    "    if x==7:\n",
    "        return 'Darkness-lighting unknown'"
   ]
  },
  {
   "cell_type": "code",
   "execution_count": 15,
   "metadata": {},
   "outputs": [
    {
     "data": {
      "text/html": [
       "<div>\n",
       "<style scoped>\n",
       "    .dataframe tbody tr th:only-of-type {\n",
       "        vertical-align: middle;\n",
       "    }\n",
       "\n",
       "    .dataframe tbody tr th {\n",
       "        vertical-align: top;\n",
       "    }\n",
       "\n",
       "    .dataframe thead th {\n",
       "        text-align: right;\n",
       "    }\n",
       "</style>\n",
       "<table border=\"1\" class=\"dataframe\">\n",
       "  <thead>\n",
       "    <tr style=\"text-align: right;\">\n",
       "      <th></th>\n",
       "      <th>Light_Conditions</th>\n",
       "      <th>Total_Accidents</th>\n",
       "    </tr>\n",
       "  </thead>\n",
       "  <tbody>\n",
       "    <tr>\n",
       "      <th>0</th>\n",
       "      <td>Daylight</td>\n",
       "      <td>2138041</td>\n",
       "    </tr>\n",
       "    <tr>\n",
       "      <th>1</th>\n",
       "      <td>Darkness-lights lit</td>\n",
       "      <td>541678</td>\n",
       "    </tr>\n",
       "    <tr>\n",
       "      <th>2</th>\n",
       "      <td>Darkness-no lighting</td>\n",
       "      <td>179280</td>\n",
       "    </tr>\n",
       "    <tr>\n",
       "      <th>3</th>\n",
       "      <td>Darkness-lighting unknown</td>\n",
       "      <td>21243</td>\n",
       "    </tr>\n",
       "    <tr>\n",
       "      <th>4</th>\n",
       "      <td>Darkness-lights unlit</td>\n",
       "      <td>12597</td>\n",
       "    </tr>\n",
       "  </tbody>\n",
       "</table>\n",
       "</div>"
      ],
      "text/plain": [
       "            Light_Conditions  Total_Accidents\n",
       "0                   Daylight          2138041\n",
       "1        Darkness-lights lit           541678\n",
       "2       Darkness-no lighting           179280\n",
       "3  Darkness-lighting unknown            21243\n",
       "4      Darkness-lights unlit            12597"
      ]
     },
     "execution_count": 15,
     "metadata": {},
     "output_type": "execute_result"
    }
   ],
   "source": [
    "#Convert\n",
    "df_light_c_count['Light_Conditions']=df_light_c_count['Light_Conditions'].apply(lambda x: light_conditions(x))\n",
    "df_light_c_count"
   ]
  },
  {
   "cell_type": "code",
   "execution_count": 16,
   "metadata": {
    "scrolled": false
   },
   "outputs": [
    {
     "data": {
      "text/plain": [
       "Text(0.5, 1.0, 'Total Accidents per Light Conditions')"
      ]
     },
     "execution_count": 16,
     "metadata": {},
     "output_type": "execute_result"
    },
    {
     "data": {
      "image/png": "[encoded data removed]",
      "text/plain": [
       "<Figure size 1296x864 with 1 Axes>"
      ]
     },
     "metadata": {
      "needs_background": "light"
     },
     "output_type": "display_data"
    }
   ],
   "source": [
    "#Plot Accidents per Light Conditions.\n",
    "plt.figure(figsize=(18,12))\n",
    "ax=sns.barplot('Light_Conditions','Total_Accidents',data=df_light_c_count,ci=None, palette='Set2')\n",
    "ax.set_xlabel(\"Light Conditions\",fontsize=20)\n",
    "ax.set_ylabel(\"Total Accidents\",fontsize=20)\n",
    "ax.tick_params(labelsize=14)\n",
    "#Annotate the bars with percentages.\n",
    "total = df_light_c_count['Total_Accidents'].sum()\n",
    "for p in ax.patches:\n",
    "            height = p.get_height()\n",
    "            ax.text(p.get_x()+p.get_width()/2.,\n",
    "            height + 3,\n",
    "            '{:1.2f}'.format(100 * height/total),\n",
    "            ha=\"center\",fontsize=20)\n",
    "plt.title('Total Accidents per Light Conditions',fontsize=30)"
   ]
  },
  {
   "cell_type": "markdown",
   "metadata": {},
   "source": [
    "From the barplot we can notice that 74% of the accidents happen in daylight. This fact is also noticed in the Hour barplot we created, where most of the accidents happened at morning or early afternoon hours. It is normal for the drivers to be more careful when driving in the dark. Furthermore traffic tends to be at lower levels at night or very early morning (when its mostly dark). The light conditions are in a way represented from the Time column but let's take the time to dig a little bit deeper in the data in order to make sure there is no information to be gained from this feature.   "
   ]
  },
  {
   "cell_type": "markdown",
   "metadata": {},
   "source": [
    "Firstly, lets combine the different darkness values (lights lit,no lights etc) into one value named 'Dark'."
   ]
  },
  {
   "cell_type": "code",
   "execution_count": 17,
   "metadata": {},
   "outputs": [],
   "source": [
    "#Create function that converts Light_Conditions to a categorical variable.\n",
    "def light_vs_dark(x):\n",
    "    if x==1:\n",
    "        return 'Daylight'\n",
    "    if x==4 or x==5 or x==6 or x==7:\n",
    "        return 'Dark'"
   ]
  },
  {
   "cell_type": "code",
   "execution_count": 21,
   "metadata": {},
   "outputs": [
    {
     "data": {
      "text/html": [
       "<div>\n",
       "<style scoped>\n",
       "    .dataframe tbody tr th:only-of-type {\n",
       "        vertical-align: middle;\n",
       "    }\n",
       "\n",
       "    .dataframe tbody tr th {\n",
       "        vertical-align: top;\n",
       "    }\n",
       "\n",
       "    .dataframe thead th {\n",
       "        text-align: right;\n",
       "    }\n",
       "</style>\n",
       "<table border=\"1\" class=\"dataframe\">\n",
       "  <thead>\n",
       "    <tr style=\"text-align: right;\">\n",
       "      <th></th>\n",
       "      <th>Light_Conditions</th>\n",
       "      <th>Total_Accidents</th>\n",
       "    </tr>\n",
       "  </thead>\n",
       "  <tbody>\n",
       "    <tr>\n",
       "      <th>0</th>\n",
       "      <td>Daylight</td>\n",
       "      <td>2138041</td>\n",
       "    </tr>\n",
       "    <tr>\n",
       "      <th>1</th>\n",
       "      <td>Dark</td>\n",
       "      <td>541678</td>\n",
       "    </tr>\n",
       "    <tr>\n",
       "      <th>2</th>\n",
       "      <td>Dark</td>\n",
       "      <td>179280</td>\n",
       "    </tr>\n",
       "    <tr>\n",
       "      <th>3</th>\n",
       "      <td>Dark</td>\n",
       "      <td>21243</td>\n",
       "    </tr>\n",
       "    <tr>\n",
       "      <th>4</th>\n",
       "      <td>Dark</td>\n",
       "      <td>12597</td>\n",
       "    </tr>\n",
       "  </tbody>\n",
       "</table>\n",
       "</div>"
      ],
      "text/plain": [
       "  Light_Conditions  Total_Accidents\n",
       "0         Daylight          2138041\n",
       "1             Dark           541678\n",
       "2             Dark           179280\n",
       "3             Dark            21243\n",
       "4             Dark            12597"
      ]
     },
     "execution_count": 21,
     "metadata": {},
     "output_type": "execute_result"
    }
   ],
   "source": [
    "#Convert\n",
    "df_light_c = df['Light_Conditions']\n",
    "df_light_c_count = df_light_c.value_counts().rename_axis('Light_Conditions').reset_index(name='Total_Accidents')\n",
    "df_light_c_count['Light_Conditions']=df_light_c_count['Light_Conditions'].apply(lambda x: light_vs_dark(x))\n",
    "df_light_c_count"
   ]
  },
  {
   "cell_type": "code",
   "execution_count": 22,
   "metadata": {},
   "outputs": [
    {
     "data": {
      "text/html": [
       "<div>\n",
       "<style scoped>\n",
       "    .dataframe tbody tr th:only-of-type {\n",
       "        vertical-align: middle;\n",
       "    }\n",
       "\n",
       "    .dataframe tbody tr th {\n",
       "        vertical-align: top;\n",
       "    }\n",
       "\n",
       "    .dataframe thead th {\n",
       "        text-align: right;\n",
       "    }\n",
       "</style>\n",
       "<table border=\"1\" class=\"dataframe\">\n",
       "  <thead>\n",
       "    <tr style=\"text-align: right;\">\n",
       "      <th></th>\n",
       "      <th>Light_Conditions</th>\n",
       "      <th>Total_Accidents</th>\n",
       "    </tr>\n",
       "  </thead>\n",
       "  <tbody>\n",
       "    <tr>\n",
       "      <th>0</th>\n",
       "      <td>Dark</td>\n",
       "      <td>754798</td>\n",
       "    </tr>\n",
       "    <tr>\n",
       "      <th>1</th>\n",
       "      <td>Daylight</td>\n",
       "      <td>2138041</td>\n",
       "    </tr>\n",
       "  </tbody>\n",
       "</table>\n",
       "</div>"
      ],
      "text/plain": [
       "  Light_Conditions  Total_Accidents\n",
       "0             Dark           754798\n",
       "1         Daylight          2138041"
      ]
     },
     "execution_count": 22,
     "metadata": {},
     "output_type": "execute_result"
    }
   ],
   "source": [
    "#Group the data by the light_conditions column and sum the total accidents for each of the 2 categories.\n",
    "df_light_c_count = df_light_c_count.groupby(by=['Light_Conditions'],as_index=False).sum()\n",
    "df_light_c_count"
   ]
  },
  {
   "cell_type": "code",
   "execution_count": 23,
   "metadata": {},
   "outputs": [
    {
     "data": {
      "text/plain": [
       "Text(0.5, 1.0, 'Total Accidents per Light Conditions')"
      ]
     },
     "execution_count": 23,
     "metadata": {},
     "output_type": "execute_result"
    },
    {
     "data": {
      "image/png": "[encoded data removed]",
      "text/plain": [
       "<Figure size 720x720 with 1 Axes>"
      ]
     },
     "metadata": {
      "needs_background": "light"
     },
     "output_type": "display_data"
    }
   ],
   "source": [
    "#Plot Accidents per Light Conditions.\n",
    "plt.figure(figsize=(10,10))\n",
    "ax=sns.barplot('Light_Conditions','Total_Accidents',data=df_light_c_count,ci=None, palette='Set2')\n",
    "ax.set_xlabel(\"Light Conditions\",fontsize=20)\n",
    "ax.set_ylabel(\"Total Accidents\",fontsize=20)\n",
    "ax.tick_params(labelsize=14)\n",
    "#Annotate the bars with percentages.\n",
    "total = df_light_c_count['Total_Accidents'].sum()\n",
    "for p in ax.patches:\n",
    "            height = p.get_height()\n",
    "            ax.text(p.get_x()+p.get_width()/2.,\n",
    "            height + 3,\n",
    "            '{:1.2f}'.format(100 * height/total),\n",
    "            ha=\"center\",fontsize=20)\n",
    "plt.title('Total Accidents per Light Conditions',fontsize=30)"
   ]
  },
  {
   "cell_type": "markdown",
   "metadata": {},
   "source": [
    "This barplot is the same with the last one but all the darkness categories are now combined into one (Dark). Having combined the data we can now move on 'digging deeper' in the data and explore the relation of light condition with fatal only accidents. "
   ]
  },
  {
   "cell_type": "code",
   "execution_count": 24,
   "metadata": {},
   "outputs": [],
   "source": [
    "#Extract only the fatal accidents from the main dataframe df.\n",
    "fatal_accidents = df['Accident_Severity'] == 1\n",
    "df_fatal = df[fatal_accidents]"
   ]
  },
  {
   "cell_type": "code",
   "execution_count": 37,
   "metadata": {},
   "outputs": [],
   "source": [
    "#Convert the column in the previous 'combination' we explained.\n",
    "df_fatal['Light_Conditions']=df_fatal['Light_Conditions'].apply(lambda x: light_vs_dark(x))"
   ]
  },
  {
   "cell_type": "code",
   "execution_count": 26,
   "metadata": {},
   "outputs": [
    {
     "data": {
      "text/html": [
       "<div>\n",
       "<style scoped>\n",
       "    .dataframe tbody tr th:only-of-type {\n",
       "        vertical-align: middle;\n",
       "    }\n",
       "\n",
       "    .dataframe tbody tr th {\n",
       "        vertical-align: top;\n",
       "    }\n",
       "\n",
       "    .dataframe thead th {\n",
       "        text-align: right;\n",
       "    }\n",
       "</style>\n",
       "<table border=\"1\" class=\"dataframe\">\n",
       "  <thead>\n",
       "    <tr style=\"text-align: right;\">\n",
       "      <th></th>\n",
       "      <th>Light_Conditions</th>\n",
       "      <th>Total_Accidents</th>\n",
       "    </tr>\n",
       "  </thead>\n",
       "  <tbody>\n",
       "    <tr>\n",
       "      <th>0</th>\n",
       "      <td>Daylight</td>\n",
       "      <td>37321</td>\n",
       "    </tr>\n",
       "    <tr>\n",
       "      <th>1</th>\n",
       "      <td>Dark</td>\n",
       "      <td>23523</td>\n",
       "    </tr>\n",
       "  </tbody>\n",
       "</table>\n",
       "</div>"
      ],
      "text/plain": [
       "  Light_Conditions  Total_Accidents\n",
       "0         Daylight            37321\n",
       "1             Dark            23523"
      ]
     },
     "execution_count": 26,
     "metadata": {},
     "output_type": "execute_result"
    }
   ],
   "source": [
    "#Count the amount of accidents per light conditions and store them into a new dataframe.\n",
    "df_fatal_light = df_fatal['Light_Conditions']\n",
    "df_fatal_light_count = df_fatal_light.value_counts().rename_axis('Light_Conditions').reset_index(name='Total_Accidents')\n",
    "df_fatal_light_count"
   ]
  },
  {
   "cell_type": "code",
   "execution_count": 34,
   "metadata": {},
   "outputs": [
    {
     "data": {
      "text/html": [
       "<div>\n",
       "<style scoped>\n",
       "    .dataframe tbody tr th:only-of-type {\n",
       "        vertical-align: middle;\n",
       "    }\n",
       "\n",
       "    .dataframe tbody tr th {\n",
       "        vertical-align: top;\n",
       "    }\n",
       "\n",
       "    .dataframe thead th {\n",
       "        text-align: right;\n",
       "    }\n",
       "</style>\n",
       "<table border=\"1\" class=\"dataframe\">\n",
       "  <thead>\n",
       "    <tr style=\"text-align: right;\">\n",
       "      <th></th>\n",
       "      <th>Light_Conditions</th>\n",
       "      <th>Total_Accidents</th>\n",
       "    </tr>\n",
       "  </thead>\n",
       "  <tbody>\n",
       "    <tr>\n",
       "      <th>1</th>\n",
       "      <td>Dark</td>\n",
       "      <td>23523</td>\n",
       "    </tr>\n",
       "    <tr>\n",
       "      <th>0</th>\n",
       "      <td>Daylight</td>\n",
       "      <td>37321</td>\n",
       "    </tr>\n",
       "  </tbody>\n",
       "</table>\n",
       "</div>"
      ],
      "text/plain": [
       "  Light_Conditions  Total_Accidents\n",
       "1             Dark            23523\n",
       "0         Daylight            37321"
      ]
     },
     "execution_count": 34,
     "metadata": {},
     "output_type": "execute_result"
    }
   ],
   "source": [
    "#Reorder the index in order to have similar plots.\n",
    "df_ordered = df_fatal_light_count.reindex([1,0])\n",
    "df_ordered"
   ]
  },
  {
   "cell_type": "code",
   "execution_count": 35,
   "metadata": {},
   "outputs": [
    {
     "data": {
      "text/plain": [
       "Text(0.5, 1.0, 'Total  Fatal Accidents per Light Conditions')"
      ]
     },
     "execution_count": 35,
     "metadata": {},
     "output_type": "execute_result"
    },
    {
     "data": {
      "image/png": "[encoded data removed]",
      "text/plain": [
       "<Figure size 720x720 with 1 Axes>"
      ]
     },
     "metadata": {
      "needs_background": "light"
     },
     "output_type": "display_data"
    }
   ],
   "source": [
    "#Plot Accidents per Light Conditions.\n",
    "plt.figure(figsize=(10,10))\n",
    "ax=sns.barplot('Light_Conditions','Total_Accidents',data=df_ordered,ci=None, palette='Set2')\n",
    "ax.set_xlabel(\"Light Conditions\",fontsize=20)\n",
    "ax.set_ylabel(\"Total Accidents\",fontsize=20)\n",
    "ax.tick_params(labelsize=14)\n",
    "#Annotate the bars with percentages.\n",
    "total = df_fatal_light_count['Total_Accidents'].sum()\n",
    "for p in ax.patches:\n",
    "            height = p.get_height()\n",
    "            ax.text(p.get_x()+p.get_width()/2.,\n",
    "            height + 3,\n",
    "            '{:1.2f}'.format(100 * height/total),\n",
    "            ha=\"center\",fontsize=20)\n",
    "plt.title('Total  Fatal Accidents per Light Conditions',fontsize=30)"
   ]
  },
  {
   "cell_type": "markdown",
   "metadata": {},
   "source": [
    "This is what we were looking for! While only 26% of the accidents happen when dark, the percentage goes up to almost 40% when examining only fatal accidents. The barplot shows an associaton between fatal accidents and dark light conditions, hence we will include the column Light_Conditions in our model."
   ]
  },
  {
   "cell_type": "markdown",
   "metadata": {},
   "source": [
    "<h2> Relation of Accidents with Weather Conditions </h2>"
   ]
  },
  {
   "cell_type": "code",
   "execution_count": 125,
   "metadata": {},
   "outputs": [
    {
     "data": {
      "text/html": [
       "<div>\n",
       "<style scoped>\n",
       "    .dataframe tbody tr th:only-of-type {\n",
       "        vertical-align: middle;\n",
       "    }\n",
       "\n",
       "    .dataframe tbody tr th {\n",
       "        vertical-align: top;\n",
       "    }\n",
       "\n",
       "    .dataframe thead th {\n",
       "        text-align: right;\n",
       "    }\n",
       "</style>\n",
       "<table border=\"1\" class=\"dataframe\">\n",
       "  <thead>\n",
       "    <tr style=\"text-align: right;\">\n",
       "      <th></th>\n",
       "      <th>Weather_Conditions</th>\n",
       "      <th>Total_Accidents</th>\n",
       "    </tr>\n",
       "  </thead>\n",
       "  <tbody>\n",
       "    <tr>\n",
       "      <th>0</th>\n",
       "      <td>1</td>\n",
       "      <td>1867237</td>\n",
       "    </tr>\n",
       "    <tr>\n",
       "      <th>1</th>\n",
       "      <td>2</td>\n",
       "      <td>291490</td>\n",
       "    </tr>\n",
       "    <tr>\n",
       "      <th>3</th>\n",
       "      <td>5</td>\n",
       "      <td>32016</td>\n",
       "    </tr>\n",
       "    <tr>\n",
       "      <th>4</th>\n",
       "      <td>4</td>\n",
       "      <td>29907</td>\n",
       "    </tr>\n",
       "    <tr>\n",
       "      <th>5</th>\n",
       "      <td>7</td>\n",
       "      <td>17788</td>\n",
       "    </tr>\n",
       "    <tr>\n",
       "      <th>6</th>\n",
       "      <td>3</td>\n",
       "      <td>16447</td>\n",
       "    </tr>\n",
       "    <tr>\n",
       "      <th>7</th>\n",
       "      <td>6</td>\n",
       "      <td>2999</td>\n",
       "    </tr>\n",
       "  </tbody>\n",
       "</table>\n",
       "</div>"
      ],
      "text/plain": [
       "   Weather_Conditions  Total_Accidents\n",
       "0                   1          1867237\n",
       "1                   2           291490\n",
       "3                   5            32016\n",
       "4                   4            29907\n",
       "5                   7            17788\n",
       "6                   3            16447\n",
       "7                   6             2999"
      ]
     },
     "execution_count": 125,
     "metadata": {},
     "output_type": "execute_result"
    }
   ],
   "source": [
    "#Count the amount of accidents per light conditions and store them into a new dataframe.\n",
    "df_weather_c = df['Weather_Conditions']\n",
    "df_weather_c_count = df_weather_c.value_counts().rename_axis('Weather_Conditions').reset_index(name='Total_Accidents')\n",
    "df_weather_c_count = df_weather_c_count[df_weather_c_count.Weather_Conditions != 8]\n",
    "df_weather_c_count"
   ]
  },
  {
   "cell_type": "markdown",
   "metadata": {},
   "source": [
    "Using the dataset's Attribute Information, we can convert the Weather_Conditions column into a categorical variable, in order to draw conclusions."
   ]
  },
  {
   "cell_type": "code",
   "execution_count": 126,
   "metadata": {},
   "outputs": [],
   "source": [
    "#Create function that converts Weather_Conditions to a categorical variable.\n",
    "def weather_conditions(x):\n",
    "    if x==1:\n",
    "        return 'Fine no high winds'\n",
    "    if x==2:\n",
    "        return 'Raining no high winds'\n",
    "    if x==3:\n",
    "        return 'Snowing no high winds'\n",
    "    if x==4:\n",
    "        return 'Fine + high winds'\n",
    "    if x==5:\n",
    "        return 'Raining + high winds'\n",
    "    if x==6:\n",
    "        return 'Snowing + high winds'\n",
    "    if x==7:\n",
    "        return 'Fog or mist'"
   ]
  },
  {
   "cell_type": "code",
   "execution_count": 128,
   "metadata": {},
   "outputs": [
    {
     "data": {
      "text/html": [
       "<div>\n",
       "<style scoped>\n",
       "    .dataframe tbody tr th:only-of-type {\n",
       "        vertical-align: middle;\n",
       "    }\n",
       "\n",
       "    .dataframe tbody tr th {\n",
       "        vertical-align: top;\n",
       "    }\n",
       "\n",
       "    .dataframe thead th {\n",
       "        text-align: right;\n",
       "    }\n",
       "</style>\n",
       "<table border=\"1\" class=\"dataframe\">\n",
       "  <thead>\n",
       "    <tr style=\"text-align: right;\">\n",
       "      <th></th>\n",
       "      <th>Weather_Conditions</th>\n",
       "      <th>Total_Accidents</th>\n",
       "    </tr>\n",
       "  </thead>\n",
       "  <tbody>\n",
       "    <tr>\n",
       "      <th>0</th>\n",
       "      <td>Fine no high winds</td>\n",
       "      <td>1867237</td>\n",
       "    </tr>\n",
       "    <tr>\n",
       "      <th>1</th>\n",
       "      <td>Raining no high winds</td>\n",
       "      <td>291490</td>\n",
       "    </tr>\n",
       "    <tr>\n",
       "      <th>3</th>\n",
       "      <td>Raining + high winds</td>\n",
       "      <td>32016</td>\n",
       "    </tr>\n",
       "    <tr>\n",
       "      <th>4</th>\n",
       "      <td>Fine + high winds</td>\n",
       "      <td>29907</td>\n",
       "    </tr>\n",
       "    <tr>\n",
       "      <th>5</th>\n",
       "      <td>Fog or mist</td>\n",
       "      <td>17788</td>\n",
       "    </tr>\n",
       "    <tr>\n",
       "      <th>6</th>\n",
       "      <td>Snowing no high winds</td>\n",
       "      <td>16447</td>\n",
       "    </tr>\n",
       "    <tr>\n",
       "      <th>7</th>\n",
       "      <td>Snowing + high winds</td>\n",
       "      <td>2999</td>\n",
       "    </tr>\n",
       "  </tbody>\n",
       "</table>\n",
       "</div>"
      ],
      "text/plain": [
       "      Weather_Conditions  Total_Accidents\n",
       "0     Fine no high winds          1867237\n",
       "1  Raining no high winds           291490\n",
       "3   Raining + high winds            32016\n",
       "4      Fine + high winds            29907\n",
       "5            Fog or mist            17788\n",
       "6  Snowing no high winds            16447\n",
       "7   Snowing + high winds             2999"
      ]
     },
     "execution_count": 128,
     "metadata": {},
     "output_type": "execute_result"
    }
   ],
   "source": [
    "#Convert\n",
    "df_weather_c_count['Weather_Conditions']=df_weather_c_count['Weather_Conditions'].apply(lambda x: weather_conditions(x))\n",
    "df_weather_c_count"
   ]
  },
  {
   "cell_type": "code",
   "execution_count": 142,
   "metadata": {},
   "outputs": [
    {
     "data": {
      "text/plain": [
       "Text(0.5, 1.0, 'Total Accidents per Weather Conditions')"
      ]
     },
     "execution_count": 142,
     "metadata": {},
     "output_type": "execute_result"
    },
    {
     "data": {
      "image/png": "[encoded data removed]",
      "text/plain": [
       "<Figure size 1296x864 with 1 Axes>"
      ]
     },
     "metadata": {
      "needs_background": "light"
     },
     "output_type": "display_data"
    }
   ],
   "source": [
    "#Plot Accidents per Weather Conditions.\n",
    "plt.figure(figsize=(18,12))\n",
    "ax=sns.barplot('Weather_Conditions','Total_Accidents',data=df_weather_c_count,ci=None, palette='Set2')\n",
    "ax.set_xlabel(\"Weather Conditions\",fontsize=20)\n",
    "ax.set_ylabel(\"Total Accidents\",fontsize=20)\n",
    "ax.tick_params(labelsize=12)\n",
    "#Annotate the bars with percentages.\n",
    "total = df_weather_c_count['Total_Accidents'].sum()\n",
    "for p in ax.patches:\n",
    "            height = p.get_height()\n",
    "            ax.text(p.get_x()+p.get_width()/2.,\n",
    "            height + 3,\n",
    "            '{:1.2f}'.format(100 * height/total),\n",
    "            ha=\"center\",fontsize=20)\n",
    "plt.title('Total Accidents per Weather Conditions',fontsize=30)"
   ]
  },
  {
   "cell_type": "markdown",
   "metadata": {},
   "source": [
    "82,70% of the accidents happen while the weather is fine with no high winds. Even though it seems weird that bad weather like rain which traditionally makes driving harder, does not affect accidents, an argument can be made that drivers are more focused and careful when driving in bad weather conditions. The weather feature will not be used in our model. "
   ]
  },
  {
   "cell_type": "code",
   "execution_count": null,
   "metadata": {},
   "outputs": [],
   "source": [
    "#Drop the 'Weather_Conditions' column\n",
    "df.drop(['Weather_Conditions'],inplace=True,axis=1)"
   ]
  },
  {
   "cell_type": "markdown",
   "metadata": {},
   "source": [
    "<h2> Relation of Accidents with Road Surface Conditions </h2>"
   ]
  },
  {
   "cell_type": "code",
   "execution_count": 20,
   "metadata": {},
   "outputs": [
    {
     "data": {
      "text/html": [
       "<div>\n",
       "<style scoped>\n",
       "    .dataframe tbody tr th:only-of-type {\n",
       "        vertical-align: middle;\n",
       "    }\n",
       "\n",
       "    .dataframe tbody tr th {\n",
       "        vertical-align: top;\n",
       "    }\n",
       "\n",
       "    .dataframe thead th {\n",
       "        text-align: right;\n",
       "    }\n",
       "</style>\n",
       "<table border=\"1\" class=\"dataframe\">\n",
       "  <thead>\n",
       "    <tr style=\"text-align: right;\">\n",
       "      <th></th>\n",
       "      <th>Road_Surface_Conditions</th>\n",
       "      <th>Total_Accidents</th>\n",
       "    </tr>\n",
       "  </thead>\n",
       "  <tbody>\n",
       "    <tr>\n",
       "      <th>0</th>\n",
       "      <td>1</td>\n",
       "      <td>1546151</td>\n",
       "    </tr>\n",
       "    <tr>\n",
       "      <th>1</th>\n",
       "      <td>2</td>\n",
       "      <td>698499</td>\n",
       "    </tr>\n",
       "    <tr>\n",
       "      <th>2</th>\n",
       "      <td>4</td>\n",
       "      <td>46801</td>\n",
       "    </tr>\n",
       "    <tr>\n",
       "      <th>3</th>\n",
       "      <td>3</td>\n",
       "      <td>14609</td>\n",
       "    </tr>\n",
       "    <tr>\n",
       "      <th>4</th>\n",
       "      <td>5</td>\n",
       "      <td>3499</td>\n",
       "    </tr>\n",
       "  </tbody>\n",
       "</table>\n",
       "</div>"
      ],
      "text/plain": [
       "   Road_Surface_Conditions  Total_Accidents\n",
       "0                        1          1546151\n",
       "1                        2           698499\n",
       "2                        4            46801\n",
       "3                        3            14609\n",
       "4                        5             3499"
      ]
     },
     "execution_count": 20,
     "metadata": {},
     "output_type": "execute_result"
    }
   ],
   "source": [
    "#Count the amount of accidents per Road Surface Conditions and store them into a new dataframe.\n",
    "df_r_surface_c = df['Road_Surface_Conditions']\n",
    "df_r_surface_c_count = df_r_surface_c.value_counts().rename_axis('Road_Surface_Conditions').reset_index(name='Total_Accidents')\n",
    "df_r_surface_c_count"
   ]
  },
  {
   "cell_type": "markdown",
   "metadata": {},
   "source": [
    "Using the dataset's Attribute Information, we can convert the Road_Surface_Conditions column into a categorical variable, in order to draw conclusions."
   ]
  },
  {
   "cell_type": "code",
   "execution_count": 23,
   "metadata": {},
   "outputs": [],
   "source": [
    "#Create function that converts  Road_Surface_Conditions to a categorical variable.\n",
    "def road_surface(x):\n",
    "    if x==1:\n",
    "        return 'Dry'\n",
    "    if x==2:\n",
    "        return 'Wet or damp'\n",
    "    if x==3:\n",
    "        return 'Snow'\n",
    "    if x==4:\n",
    "        return 'Frost or ice'\n",
    "    if x==5:\n",
    "        return 'Flood over 3cm. deep'"
   ]
  },
  {
   "cell_type": "code",
   "execution_count": 24,
   "metadata": {},
   "outputs": [
    {
     "data": {
      "text/html": [
       "<div>\n",
       "<style scoped>\n",
       "    .dataframe tbody tr th:only-of-type {\n",
       "        vertical-align: middle;\n",
       "    }\n",
       "\n",
       "    .dataframe tbody tr th {\n",
       "        vertical-align: top;\n",
       "    }\n",
       "\n",
       "    .dataframe thead th {\n",
       "        text-align: right;\n",
       "    }\n",
       "</style>\n",
       "<table border=\"1\" class=\"dataframe\">\n",
       "  <thead>\n",
       "    <tr style=\"text-align: right;\">\n",
       "      <th></th>\n",
       "      <th>Road_Surface_Conditions</th>\n",
       "      <th>Total_Accidents</th>\n",
       "    </tr>\n",
       "  </thead>\n",
       "  <tbody>\n",
       "    <tr>\n",
       "      <th>0</th>\n",
       "      <td>Dry</td>\n",
       "      <td>1546151</td>\n",
       "    </tr>\n",
       "    <tr>\n",
       "      <th>1</th>\n",
       "      <td>Wet or damp</td>\n",
       "      <td>698499</td>\n",
       "    </tr>\n",
       "    <tr>\n",
       "      <th>2</th>\n",
       "      <td>Frost or ice</td>\n",
       "      <td>46801</td>\n",
       "    </tr>\n",
       "    <tr>\n",
       "      <th>3</th>\n",
       "      <td>Snow</td>\n",
       "      <td>14609</td>\n",
       "    </tr>\n",
       "    <tr>\n",
       "      <th>4</th>\n",
       "      <td>Flood over 3cm. deep</td>\n",
       "      <td>3499</td>\n",
       "    </tr>\n",
       "  </tbody>\n",
       "</table>\n",
       "</div>"
      ],
      "text/plain": [
       "  Road_Surface_Conditions  Total_Accidents\n",
       "0                     Dry          1546151\n",
       "1             Wet or damp           698499\n",
       "2            Frost or ice            46801\n",
       "3                    Snow            14609\n",
       "4    Flood over 3cm. deep             3499"
      ]
     },
     "execution_count": 24,
     "metadata": {},
     "output_type": "execute_result"
    }
   ],
   "source": [
    "#Convert\n",
    "df_r_surface_c_count['Road_Surface_Conditions']=df_r_surface_c_count['Road_Surface_Conditions'].apply(lambda x: road_surface(x))\n",
    "df_r_surface_c_count"
   ]
  },
  {
   "cell_type": "code",
   "execution_count": 26,
   "metadata": {},
   "outputs": [
    {
     "data": {
      "text/plain": [
       "Text(0.5, 1.0, 'Total Accidents per Road Surface Conditions')"
      ]
     },
     "execution_count": 26,
     "metadata": {},
     "output_type": "execute_result"
    },
    {
     "data": {
      "image/png": "[encoded data removed]",
      "text/plain": [
       "<Figure size 1296x864 with 1 Axes>"
      ]
     },
     "metadata": {
      "needs_background": "light"
     },
     "output_type": "display_data"
    }
   ],
   "source": [
    "#Plot Accidents per Road Surface Conditions.\n",
    "plt.figure(figsize=(18,12))\n",
    "ax=sns.barplot('Road_Surface_Conditions','Total_Accidents',data=df_r_surface_c_count,ci=None, palette='Set2')\n",
    "ax.set_xlabel(\"Road Surface Conditions\",fontsize=20)\n",
    "ax.set_ylabel(\"Total Accidents\",fontsize=20)\n",
    "ax.tick_params(labelsize=12)\n",
    "#Annotate the bars with percentages.\n",
    "total = df_r_surface_c_count['Total_Accidents'].sum()\n",
    "for p in ax.patches:\n",
    "            height = p.get_height()\n",
    "            ax.text(p.get_x()+p.get_width()/2.,\n",
    "            height + 3,\n",
    "            '{:1.2f}'.format(100 * height/total),\n",
    "            ha=\"center\",fontsize=20)\n",
    "plt.title('Total Accidents per Road Surface Conditions',fontsize=30)"
   ]
  },
  {
   "cell_type": "markdown",
   "metadata": {},
   "source": [
    "Almost 70% of the accidents happen on Dry Roads. There is a chance that drivers pay more attention and are more focused when there are extreme road surface conditions. This is imbalance makes the feature not a good predictor for our model."
   ]
  },
  {
   "cell_type": "code",
   "execution_count": 80,
   "metadata": {},
   "outputs": [],
   "source": [
    "#Drop the 'Road_Surface_Conditions' column\n",
    "df.drop(['Road_Surface_Conditions'],inplace=True,axis=1)"
   ]
  },
  {
   "cell_type": "markdown",
   "metadata": {},
   "source": [
    "<h2> Relation of Accidents with Area Type </h2>"
   ]
  },
  {
   "cell_type": "code",
   "execution_count": 38,
   "metadata": {},
   "outputs": [
    {
     "data": {
      "text/html": [
       "<div>\n",
       "<style scoped>\n",
       "    .dataframe tbody tr th:only-of-type {\n",
       "        vertical-align: middle;\n",
       "    }\n",
       "\n",
       "    .dataframe tbody tr th {\n",
       "        vertical-align: top;\n",
       "    }\n",
       "\n",
       "    .dataframe thead th {\n",
       "        text-align: right;\n",
       "    }\n",
       "</style>\n",
       "<table border=\"1\" class=\"dataframe\">\n",
       "  <thead>\n",
       "    <tr style=\"text-align: right;\">\n",
       "      <th></th>\n",
       "      <th>Urban_or_Rural_Area</th>\n",
       "      <th>Total_Accidents</th>\n",
       "    </tr>\n",
       "  </thead>\n",
       "  <tbody>\n",
       "    <tr>\n",
       "      <th>0</th>\n",
       "      <td>1</td>\n",
       "      <td>1655308</td>\n",
       "    </tr>\n",
       "    <tr>\n",
       "      <th>1</th>\n",
       "      <td>2</td>\n",
       "      <td>1237531</td>\n",
       "    </tr>\n",
       "  </tbody>\n",
       "</table>\n",
       "</div>"
      ],
      "text/plain": [
       "   Urban_or_Rural_Area  Total_Accidents\n",
       "0                    1          1655308\n",
       "1                    2          1237531"
      ]
     },
     "execution_count": 38,
     "metadata": {},
     "output_type": "execute_result"
    }
   ],
   "source": [
    "#Count the amount of accidents per Area and store them into a new dataframe.\n",
    "df_area = df['Urban_or_Rural_Area']\n",
    "df_area_count = df_area.value_counts().rename_axis('Urban_or_Rural_Area').reset_index(name='Total_Accidents')\n",
    "df_area_count"
   ]
  },
  {
   "cell_type": "markdown",
   "metadata": {},
   "source": [
    "Using the dataset's Attribute Information, we can convert the Road_Surface_Conditions column into a categorical variable, in order to draw conclusions."
   ]
  },
  {
   "cell_type": "code",
   "execution_count": 39,
   "metadata": {},
   "outputs": [],
   "source": [
    "#Create function that converts  Urban_or_Rural_Area to a categorical variable.\n",
    "def area(x):\n",
    "    if x==1:\n",
    "        return 'Urban'\n",
    "    if x==2:\n",
    "        return 'Rural'"
   ]
  },
  {
   "cell_type": "code",
   "execution_count": 40,
   "metadata": {},
   "outputs": [
    {
     "data": {
      "text/html": [
       "<div>\n",
       "<style scoped>\n",
       "    .dataframe tbody tr th:only-of-type {\n",
       "        vertical-align: middle;\n",
       "    }\n",
       "\n",
       "    .dataframe tbody tr th {\n",
       "        vertical-align: top;\n",
       "    }\n",
       "\n",
       "    .dataframe thead th {\n",
       "        text-align: right;\n",
       "    }\n",
       "</style>\n",
       "<table border=\"1\" class=\"dataframe\">\n",
       "  <thead>\n",
       "    <tr style=\"text-align: right;\">\n",
       "      <th></th>\n",
       "      <th>Urban_or_Rural_Area</th>\n",
       "      <th>Total_Accidents</th>\n",
       "    </tr>\n",
       "  </thead>\n",
       "  <tbody>\n",
       "    <tr>\n",
       "      <th>0</th>\n",
       "      <td>Urban</td>\n",
       "      <td>1655308</td>\n",
       "    </tr>\n",
       "    <tr>\n",
       "      <th>1</th>\n",
       "      <td>Rural</td>\n",
       "      <td>1237531</td>\n",
       "    </tr>\n",
       "  </tbody>\n",
       "</table>\n",
       "</div>"
      ],
      "text/plain": [
       "  Urban_or_Rural_Area  Total_Accidents\n",
       "0               Urban          1655308\n",
       "1               Rural          1237531"
      ]
     },
     "execution_count": 40,
     "metadata": {},
     "output_type": "execute_result"
    }
   ],
   "source": [
    "#Convert\n",
    "df_area_count['Urban_or_Rural_Area']=df_area_count['Urban_or_Rural_Area'].apply(lambda x: area(x))\n",
    "df_area_count"
   ]
  },
  {
   "cell_type": "code",
   "execution_count": 48,
   "metadata": {},
   "outputs": [
    {
     "data": {
      "text/plain": [
       "Text(0.5, 1.0, 'Total Accidents per Area')"
      ]
     },
     "execution_count": 48,
     "metadata": {},
     "output_type": "execute_result"
    },
    {
     "data": {
      "image/png": "[encoded data removed]",
      "text/plain": [
       "<Figure size 864x648 with 1 Axes>"
      ]
     },
     "metadata": {
      "needs_background": "light"
     },
     "output_type": "display_data"
    }
   ],
   "source": [
    "#Plot Accidents per Area.\n",
    "plt.figure(figsize=(12,9))\n",
    "ax=sns.barplot('Urban_or_Rural_Area','Total_Accidents',data=df_area_count,ci=None, palette='Set2')\n",
    "ax.set_xlabel(\"Area\",fontsize=22)\n",
    "ax.set_ylabel(\"Total Accidents\",fontsize=22)\n",
    "ax.tick_params(labelsize=20)\n",
    "#Annotate the bars with percentages.\n",
    "total = df_area_count['Total_Accidents'].sum()\n",
    "for p in ax.patches:\n",
    "            height = p.get_height()\n",
    "            ax.text(p.get_x()+p.get_width()/2.,\n",
    "            height + 3,\n",
    "            '{:1.2f}'.format(100 * height/total),\n",
    "            ha=\"center\",fontsize=22)\n",
    "plt.title('Total Accidents per Area',fontsize=30)"
   ]
  },
  {
   "cell_type": "markdown",
   "metadata": {},
   "source": [
    "Most accidents happen in Urban Areas but the difference is not very big (16.18). Lets see what is the difference only for the fatal accidents, which are rare in the dataset."
   ]
  },
  {
   "cell_type": "code",
   "execution_count": 46,
   "metadata": {},
   "outputs": [
    {
     "data": {
      "text/html": [
       "<div>\n",
       "<style scoped>\n",
       "    .dataframe tbody tr th:only-of-type {\n",
       "        vertical-align: middle;\n",
       "    }\n",
       "\n",
       "    .dataframe tbody tr th {\n",
       "        vertical-align: top;\n",
       "    }\n",
       "\n",
       "    .dataframe thead th {\n",
       "        text-align: right;\n",
       "    }\n",
       "</style>\n",
       "<table border=\"1\" class=\"dataframe\">\n",
       "  <thead>\n",
       "    <tr style=\"text-align: right;\">\n",
       "      <th></th>\n",
       "      <th>Urban_or_Rural_Area</th>\n",
       "      <th>Total_Accidents</th>\n",
       "    </tr>\n",
       "  </thead>\n",
       "  <tbody>\n",
       "    <tr>\n",
       "      <th>0</th>\n",
       "      <td>2</td>\n",
       "      <td>46311</td>\n",
       "    </tr>\n",
       "    <tr>\n",
       "      <th>1</th>\n",
       "      <td>1</td>\n",
       "      <td>14533</td>\n",
       "    </tr>\n",
       "  </tbody>\n",
       "</table>\n",
       "</div>"
      ],
      "text/plain": [
       "   Urban_or_Rural_Area  Total_Accidents\n",
       "0                    2            46311\n",
       "1                    1            14533"
      ]
     },
     "execution_count": 46,
     "metadata": {},
     "output_type": "execute_result"
    }
   ],
   "source": [
    "#Count the amount of accidents per area and store them into a new dataframe.\n",
    "df_fatal_area = df_fatal['Urban_or_Rural_Area']\n",
    "df_fatal_area_count = df_fatal_area.value_counts().rename_axis('Urban_or_Rural_Area').reset_index(name='Total_Accidents')\n",
    "df_fatal_area_count"
   ]
  },
  {
   "cell_type": "code",
   "execution_count": 47,
   "metadata": {},
   "outputs": [
    {
     "data": {
      "text/html": [
       "<div>\n",
       "<style scoped>\n",
       "    .dataframe tbody tr th:only-of-type {\n",
       "        vertical-align: middle;\n",
       "    }\n",
       "\n",
       "    .dataframe tbody tr th {\n",
       "        vertical-align: top;\n",
       "    }\n",
       "\n",
       "    .dataframe thead th {\n",
       "        text-align: right;\n",
       "    }\n",
       "</style>\n",
       "<table border=\"1\" class=\"dataframe\">\n",
       "  <thead>\n",
       "    <tr style=\"text-align: right;\">\n",
       "      <th></th>\n",
       "      <th>Urban_or_Rural_Area</th>\n",
       "      <th>Total_Accidents</th>\n",
       "    </tr>\n",
       "  </thead>\n",
       "  <tbody>\n",
       "    <tr>\n",
       "      <th>0</th>\n",
       "      <td>Rural</td>\n",
       "      <td>46311</td>\n",
       "    </tr>\n",
       "    <tr>\n",
       "      <th>1</th>\n",
       "      <td>Urban</td>\n",
       "      <td>14533</td>\n",
       "    </tr>\n",
       "  </tbody>\n",
       "</table>\n",
       "</div>"
      ],
      "text/plain": [
       "  Urban_or_Rural_Area  Total_Accidents\n",
       "0               Rural            46311\n",
       "1               Urban            14533"
      ]
     },
     "execution_count": 47,
     "metadata": {},
     "output_type": "execute_result"
    }
   ],
   "source": [
    "#Convert\n",
    "df_fatal_area_count['Urban_or_Rural_Area']=df_fatal_area_count['Urban_or_Rural_Area'].apply(lambda x: area(x))\n",
    "df_fatal_area_count"
   ]
  },
  {
   "cell_type": "code",
   "execution_count": 50,
   "metadata": {},
   "outputs": [
    {
     "data": {
      "text/html": [
       "<div>\n",
       "<style scoped>\n",
       "    .dataframe tbody tr th:only-of-type {\n",
       "        vertical-align: middle;\n",
       "    }\n",
       "\n",
       "    .dataframe tbody tr th {\n",
       "        vertical-align: top;\n",
       "    }\n",
       "\n",
       "    .dataframe thead th {\n",
       "        text-align: right;\n",
       "    }\n",
       "</style>\n",
       "<table border=\"1\" class=\"dataframe\">\n",
       "  <thead>\n",
       "    <tr style=\"text-align: right;\">\n",
       "      <th></th>\n",
       "      <th>Urban_or_Rural_Area</th>\n",
       "      <th>Total_Accidents</th>\n",
       "    </tr>\n",
       "  </thead>\n",
       "  <tbody>\n",
       "    <tr>\n",
       "      <th>1</th>\n",
       "      <td>Urban</td>\n",
       "      <td>14533</td>\n",
       "    </tr>\n",
       "    <tr>\n",
       "      <th>0</th>\n",
       "      <td>Rural</td>\n",
       "      <td>46311</td>\n",
       "    </tr>\n",
       "  </tbody>\n",
       "</table>\n",
       "</div>"
      ],
      "text/plain": [
       "  Urban_or_Rural_Area  Total_Accidents\n",
       "1               Urban            14533\n",
       "0               Rural            46311"
      ]
     },
     "execution_count": 50,
     "metadata": {},
     "output_type": "execute_result"
    }
   ],
   "source": [
    "#Reorder the index in order to have similar plots.\n",
    "df_ordered = df_fatal_area_count.reindex([1,0])\n",
    "df_ordered"
   ]
  },
  {
   "cell_type": "code",
   "execution_count": 51,
   "metadata": {},
   "outputs": [
    {
     "data": {
      "text/plain": [
       "Text(0.5, 1.0, 'Total Fatal Accidents per Area')"
      ]
     },
     "execution_count": 51,
     "metadata": {},
     "output_type": "execute_result"
    },
    {
     "data": {
      "image/png": "[encoded data removed]",
      "text/plain": [
       "<Figure size 864x648 with 1 Axes>"
      ]
     },
     "metadata": {
      "needs_background": "light"
     },
     "output_type": "display_data"
    }
   ],
   "source": [
    "#Plot Accidents per Area.\n",
    "plt.figure(figsize=(12,9))\n",
    "ax=sns.barplot('Urban_or_Rural_Area','Total_Accidents',data=df_ordered,ci=None, palette='Set2')\n",
    "ax.set_xlabel(\"Area\",fontsize=22)\n",
    "ax.set_ylabel(\"Total Fatal Accidents\",fontsize=22)\n",
    "ax.tick_params(labelsize=20)\n",
    "#Annotate the bars with percentages.\n",
    "total = df_ordered['Total_Accidents'].sum()\n",
    "for p in ax.patches:\n",
    "            height = p.get_height()\n",
    "            ax.text(p.get_x()+p.get_width()/2.,\n",
    "            height + 3,\n",
    "            '{:1.2f}'.format(100 * height/total),\n",
    "            ha=\"center\",fontsize=22)\n",
    "plt.title('Total Fatal Accidents per Area',fontsize=30)"
   ]
  },
  {
   "cell_type": "markdown",
   "metadata": {},
   "source": [
    "The barplot shows how things are changed when we examine just the fatal accidents. While accidents in our dataset are almost equally distributed among rural and urban areas, when it comes to fatal accidents, 75% of them happen at rural areas. We will include this feature in our model."
   ]
  },
  {
   "cell_type": "markdown",
   "metadata": {},
   "source": [
    "<h2> Relation of Accidents with Vehicle Type </h2>"
   ]
  },
  {
   "cell_type": "code",
   "execution_count": 56,
   "metadata": {},
   "outputs": [
    {
     "data": {
      "text/html": [
       "<div>\n",
       "<style scoped>\n",
       "    .dataframe tbody tr th:only-of-type {\n",
       "        vertical-align: middle;\n",
       "    }\n",
       "\n",
       "    .dataframe tbody tr th {\n",
       "        vertical-align: top;\n",
       "    }\n",
       "\n",
       "    .dataframe thead th {\n",
       "        text-align: right;\n",
       "    }\n",
       "</style>\n",
       "<table border=\"1\" class=\"dataframe\">\n",
       "  <thead>\n",
       "    <tr style=\"text-align: right;\">\n",
       "      <th></th>\n",
       "      <th>Vehicle_Type</th>\n",
       "      <th>Total_Accidents</th>\n",
       "    </tr>\n",
       "  </thead>\n",
       "  <tbody>\n",
       "    <tr>\n",
       "      <th>0</th>\n",
       "      <td>9</td>\n",
       "      <td>1898624</td>\n",
       "    </tr>\n",
       "    <tr>\n",
       "      <th>1</th>\n",
       "      <td>19</td>\n",
       "      <td>104662</td>\n",
       "    </tr>\n",
       "    <tr>\n",
       "      <th>2</th>\n",
       "      <td>5</td>\n",
       "      <td>67747</td>\n",
       "    </tr>\n",
       "    <tr>\n",
       "      <th>3</th>\n",
       "      <td>11</td>\n",
       "      <td>49432</td>\n",
       "    </tr>\n",
       "    <tr>\n",
       "      <th>4</th>\n",
       "      <td>3</td>\n",
       "      <td>45151</td>\n",
       "    </tr>\n",
       "    <tr>\n",
       "      <th>5</th>\n",
       "      <td>8</td>\n",
       "      <td>44056</td>\n",
       "    </tr>\n",
       "    <tr>\n",
       "      <th>6</th>\n",
       "      <td>21</td>\n",
       "      <td>37918</td>\n",
       "    </tr>\n",
       "    <tr>\n",
       "      <th>7</th>\n",
       "      <td>2</td>\n",
       "      <td>24620</td>\n",
       "    </tr>\n",
       "    <tr>\n",
       "      <th>8</th>\n",
       "      <td>4</td>\n",
       "      <td>16504</td>\n",
       "    </tr>\n",
       "    <tr>\n",
       "      <th>9</th>\n",
       "      <td>20</td>\n",
       "      <td>10125</td>\n",
       "    </tr>\n",
       "    <tr>\n",
       "      <th>10</th>\n",
       "      <td>10</td>\n",
       "      <td>4913</td>\n",
       "    </tr>\n",
       "    <tr>\n",
       "      <th>11</th>\n",
       "      <td>90</td>\n",
       "      <td>4528</td>\n",
       "    </tr>\n",
       "    <tr>\n",
       "      <th>12</th>\n",
       "      <td>17</td>\n",
       "      <td>1090</td>\n",
       "    </tr>\n",
       "    <tr>\n",
       "      <th>13</th>\n",
       "      <td>98</td>\n",
       "      <td>97</td>\n",
       "    </tr>\n",
       "    <tr>\n",
       "      <th>14</th>\n",
       "      <td>97</td>\n",
       "      <td>87</td>\n",
       "    </tr>\n",
       "    <tr>\n",
       "      <th>15</th>\n",
       "      <td>23</td>\n",
       "      <td>5</td>\n",
       "    </tr>\n",
       "  </tbody>\n",
       "</table>\n",
       "</div>"
      ],
      "text/plain": [
       "    Vehicle_Type  Total_Accidents\n",
       "0              9          1898624\n",
       "1             19           104662\n",
       "2              5            67747\n",
       "3             11            49432\n",
       "4              3            45151\n",
       "5              8            44056\n",
       "6             21            37918\n",
       "7              2            24620\n",
       "8              4            16504\n",
       "9             20            10125\n",
       "10            10             4913\n",
       "11            90             4528\n",
       "12            17             1090\n",
       "13            98               97\n",
       "14            97               87\n",
       "15            23                5"
      ]
     },
     "execution_count": 56,
     "metadata": {},
     "output_type": "execute_result"
    }
   ],
   "source": [
    "#Count the amount of accidents per Vehicle and store them into a new dataframe.\n",
    "df_vehicle = df['Vehicle_Type']\n",
    "df_vehicle_count = df_vehicle.value_counts().rename_axis('Vehicle_Type').reset_index(name='Total_Accidents')\n",
    "df_vehicle_count"
   ]
  },
  {
   "cell_type": "markdown",
   "metadata": {},
   "source": [
    "Using the dataset's Attribute Information, we can convert the Vehicle_Type column into a categorical variable, in order to draw conclusions."
   ]
  },
  {
   "cell_type": "code",
   "execution_count": 49,
   "metadata": {},
   "outputs": [],
   "source": [
    "#Create function that converts Vehicle_Type to a categorical variable.\n",
    "def vehicle(x):\n",
    "    if x==1:\n",
    "        return 'Pedal cycle'\n",
    "    if x==2 or x==3 or x==4 or x==5 or x==23 or x==90 or x==97:\n",
    "        return 'Motorcycle'\n",
    "    if x==8:\n",
    "        return 'Taxi/Private hire car'\n",
    "    if x==9:\n",
    "        return 'Car'\n",
    "    if x==10 or x==11:\n",
    "        return 'Bus'\n",
    "    if x==17:\n",
    "        return 'Agricultural vehicle'\n",
    "    if x==19 or x==20 or x==21 or x==98:\n",
    "        return 'Van/Goods'"
   ]
  },
  {
   "cell_type": "code",
   "execution_count": 57,
   "metadata": {},
   "outputs": [
    {
     "data": {
      "text/html": [
       "<div>\n",
       "<style scoped>\n",
       "    .dataframe tbody tr th:only-of-type {\n",
       "        vertical-align: middle;\n",
       "    }\n",
       "\n",
       "    .dataframe tbody tr th {\n",
       "        vertical-align: top;\n",
       "    }\n",
       "\n",
       "    .dataframe thead th {\n",
       "        text-align: right;\n",
       "    }\n",
       "</style>\n",
       "<table border=\"1\" class=\"dataframe\">\n",
       "  <thead>\n",
       "    <tr style=\"text-align: right;\">\n",
       "      <th></th>\n",
       "      <th>Vehicle_Type</th>\n",
       "      <th>Total_Accidents</th>\n",
       "    </tr>\n",
       "  </thead>\n",
       "  <tbody>\n",
       "    <tr>\n",
       "      <th>0</th>\n",
       "      <td>Car</td>\n",
       "      <td>1898624</td>\n",
       "    </tr>\n",
       "    <tr>\n",
       "      <th>1</th>\n",
       "      <td>Van/Goods</td>\n",
       "      <td>104662</td>\n",
       "    </tr>\n",
       "    <tr>\n",
       "      <th>2</th>\n",
       "      <td>Motorcycle</td>\n",
       "      <td>67747</td>\n",
       "    </tr>\n",
       "    <tr>\n",
       "      <th>3</th>\n",
       "      <td>Bus</td>\n",
       "      <td>49432</td>\n",
       "    </tr>\n",
       "    <tr>\n",
       "      <th>4</th>\n",
       "      <td>Motorcycle</td>\n",
       "      <td>45151</td>\n",
       "    </tr>\n",
       "    <tr>\n",
       "      <th>5</th>\n",
       "      <td>Taxi/Private hire car</td>\n",
       "      <td>44056</td>\n",
       "    </tr>\n",
       "    <tr>\n",
       "      <th>6</th>\n",
       "      <td>Van/Goods</td>\n",
       "      <td>37918</td>\n",
       "    </tr>\n",
       "    <tr>\n",
       "      <th>7</th>\n",
       "      <td>Motorcycle</td>\n",
       "      <td>24620</td>\n",
       "    </tr>\n",
       "    <tr>\n",
       "      <th>8</th>\n",
       "      <td>Motorcycle</td>\n",
       "      <td>16504</td>\n",
       "    </tr>\n",
       "    <tr>\n",
       "      <th>9</th>\n",
       "      <td>Van/Goods</td>\n",
       "      <td>10125</td>\n",
       "    </tr>\n",
       "    <tr>\n",
       "      <th>10</th>\n",
       "      <td>Bus</td>\n",
       "      <td>4913</td>\n",
       "    </tr>\n",
       "    <tr>\n",
       "      <th>11</th>\n",
       "      <td>Motorcycle</td>\n",
       "      <td>4528</td>\n",
       "    </tr>\n",
       "    <tr>\n",
       "      <th>12</th>\n",
       "      <td>Agricultural vehicle</td>\n",
       "      <td>1090</td>\n",
       "    </tr>\n",
       "    <tr>\n",
       "      <th>13</th>\n",
       "      <td>Van/Goods</td>\n",
       "      <td>97</td>\n",
       "    </tr>\n",
       "    <tr>\n",
       "      <th>14</th>\n",
       "      <td>Motorcycle</td>\n",
       "      <td>87</td>\n",
       "    </tr>\n",
       "    <tr>\n",
       "      <th>15</th>\n",
       "      <td>Motorcycle</td>\n",
       "      <td>5</td>\n",
       "    </tr>\n",
       "  </tbody>\n",
       "</table>\n",
       "</div>"
      ],
      "text/plain": [
       "             Vehicle_Type  Total_Accidents\n",
       "0                     Car          1898624\n",
       "1               Van/Goods           104662\n",
       "2              Motorcycle            67747\n",
       "3                     Bus            49432\n",
       "4              Motorcycle            45151\n",
       "5   Taxi/Private hire car            44056\n",
       "6               Van/Goods            37918\n",
       "7              Motorcycle            24620\n",
       "8              Motorcycle            16504\n",
       "9               Van/Goods            10125\n",
       "10                    Bus             4913\n",
       "11             Motorcycle             4528\n",
       "12   Agricultural vehicle             1090\n",
       "13              Van/Goods               97\n",
       "14             Motorcycle               87\n",
       "15             Motorcycle                5"
      ]
     },
     "execution_count": 57,
     "metadata": {},
     "output_type": "execute_result"
    }
   ],
   "source": [
    "#Convert\n",
    "df_vehicle_count['Vehicle_Type']=df_vehicle_count['Vehicle_Type'].apply(lambda x: vehicle(x))\n",
    "df_vehicle_count"
   ]
  },
  {
   "cell_type": "code",
   "execution_count": 58,
   "metadata": {},
   "outputs": [
    {
     "data": {
      "text/html": [
       "<div>\n",
       "<style scoped>\n",
       "    .dataframe tbody tr th:only-of-type {\n",
       "        vertical-align: middle;\n",
       "    }\n",
       "\n",
       "    .dataframe tbody tr th {\n",
       "        vertical-align: top;\n",
       "    }\n",
       "\n",
       "    .dataframe thead th {\n",
       "        text-align: right;\n",
       "    }\n",
       "</style>\n",
       "<table border=\"1\" class=\"dataframe\">\n",
       "  <thead>\n",
       "    <tr style=\"text-align: right;\">\n",
       "      <th></th>\n",
       "      <th>Vehicle_Type</th>\n",
       "      <th>Total_Accidents</th>\n",
       "    </tr>\n",
       "  </thead>\n",
       "  <tbody>\n",
       "    <tr>\n",
       "      <th>0</th>\n",
       "      <td>Agricultural vehicle</td>\n",
       "      <td>1090</td>\n",
       "    </tr>\n",
       "    <tr>\n",
       "      <th>1</th>\n",
       "      <td>Bus</td>\n",
       "      <td>54345</td>\n",
       "    </tr>\n",
       "    <tr>\n",
       "      <th>2</th>\n",
       "      <td>Car</td>\n",
       "      <td>1898624</td>\n",
       "    </tr>\n",
       "    <tr>\n",
       "      <th>3</th>\n",
       "      <td>Motorcycle</td>\n",
       "      <td>158642</td>\n",
       "    </tr>\n",
       "    <tr>\n",
       "      <th>4</th>\n",
       "      <td>Taxi/Private hire car</td>\n",
       "      <td>44056</td>\n",
       "    </tr>\n",
       "    <tr>\n",
       "      <th>5</th>\n",
       "      <td>Van/Goods</td>\n",
       "      <td>152802</td>\n",
       "    </tr>\n",
       "  </tbody>\n",
       "</table>\n",
       "</div>"
      ],
      "text/plain": [
       "            Vehicle_Type  Total_Accidents\n",
       "0   Agricultural vehicle             1090\n",
       "1                    Bus            54345\n",
       "2                    Car          1898624\n",
       "3             Motorcycle           158642\n",
       "4  Taxi/Private hire car            44056\n",
       "5              Van/Goods           152802"
      ]
     },
     "execution_count": 58,
     "metadata": {},
     "output_type": "execute_result"
    }
   ],
   "source": [
    "#Group the data by the Vehicle Type column and sum the total accidents for each category.\n",
    "df_vehicle_count = df_vehicle_count.groupby(by=['Vehicle_Type'],as_index=False).sum()\n",
    "df_vehicle_count"
   ]
  },
  {
   "cell_type": "code",
   "execution_count": 61,
   "metadata": {},
   "outputs": [
    {
     "data": {
      "text/plain": [
       "Text(0.5, 1.0, 'Total Accidents per Vehicle')"
      ]
     },
     "execution_count": 61,
     "metadata": {},
     "output_type": "execute_result"
    },
    {
     "data": {
      "image/png": "[encoded data removed]",
      "text/plain": [
       "<Figure size 1008x648 with 1 Axes>"
      ]
     },
     "metadata": {
      "needs_background": "light"
     },
     "output_type": "display_data"
    }
   ],
   "source": [
    "#Plot Accidents per Vehicle.\n",
    "plt.figure(figsize=(14,9))\n",
    "ax=sns.barplot('Vehicle_Type','Total_Accidents',data=df_vehicle_count,ci=None, palette='Set2')\n",
    "ax.set_xlabel(\"Vehicle\",fontsize=20)\n",
    "ax.set_ylabel(\"Total Accidents\",fontsize=20)\n",
    "ax.tick_params(labelsize=12)\n",
    "#Annotate the bars with percentages.\n",
    "total = df_vehicle_count['Total_Accidents'].sum()\n",
    "for p in ax.patches:\n",
    "            height = p.get_height()\n",
    "            ax.text(p.get_x()+p.get_width()/2.,\n",
    "            height + 3,\n",
    "            '{:1.2f}'.format(100 * height/total),\n",
    "            ha=\"center\",fontsize=20)\n",
    "plt.title('Total Accidents per Vehicle',fontsize=30)"
   ]
  },
  {
   "cell_type": "markdown",
   "metadata": {},
   "source": [
    "We can notice that 82.21% of the accidents are caused by cars. This probably happens because cars are the most common vehicle on public roads. An imbalance such this make the feature not a bad predictor for our model."
   ]
  },
  {
   "cell_type": "code",
   "execution_count": null,
   "metadata": {},
   "outputs": [],
   "source": [
    "#Drop the 'Vehicle_Type' column\n",
    "df.drop(['Vehicle_Type'],inplace=True,axis=1)"
   ]
  },
  {
   "cell_type": "markdown",
   "metadata": {},
   "source": [
    "<h2> Relation of Accidents with Driver's Age </h2>"
   ]
  },
  {
   "cell_type": "code",
   "execution_count": 85,
   "metadata": {},
   "outputs": [
    {
     "data": {
      "text/html": [
       "<div>\n",
       "<style scoped>\n",
       "    .dataframe tbody tr th:only-of-type {\n",
       "        vertical-align: middle;\n",
       "    }\n",
       "\n",
       "    .dataframe tbody tr th {\n",
       "        vertical-align: top;\n",
       "    }\n",
       "\n",
       "    .dataframe thead th {\n",
       "        text-align: right;\n",
       "    }\n",
       "</style>\n",
       "<table border=\"1\" class=\"dataframe\">\n",
       "  <thead>\n",
       "    <tr style=\"text-align: right;\">\n",
       "      <th></th>\n",
       "      <th>Age_Band_of_Driver</th>\n",
       "      <th>Total_Accidents</th>\n",
       "    </tr>\n",
       "  </thead>\n",
       "  <tbody>\n",
       "    <tr>\n",
       "      <th>4</th>\n",
       "      <td>4</td>\n",
       "      <td>263184</td>\n",
       "    </tr>\n",
       "    <tr>\n",
       "      <th>3</th>\n",
       "      <td>5</td>\n",
       "      <td>301139</td>\n",
       "    </tr>\n",
       "    <tr>\n",
       "      <th>0</th>\n",
       "      <td>6</td>\n",
       "      <td>514857</td>\n",
       "    </tr>\n",
       "    <tr>\n",
       "      <th>1</th>\n",
       "      <td>7</td>\n",
       "      <td>490717</td>\n",
       "    </tr>\n",
       "    <tr>\n",
       "      <th>2</th>\n",
       "      <td>8</td>\n",
       "      <td>360487</td>\n",
       "    </tr>\n",
       "    <tr>\n",
       "      <th>5</th>\n",
       "      <td>9</td>\n",
       "      <td>216399</td>\n",
       "    </tr>\n",
       "    <tr>\n",
       "      <th>6</th>\n",
       "      <td>10</td>\n",
       "      <td>100780</td>\n",
       "    </tr>\n",
       "    <tr>\n",
       "      <th>7</th>\n",
       "      <td>11</td>\n",
       "      <td>61996</td>\n",
       "    </tr>\n",
       "  </tbody>\n",
       "</table>\n",
       "</div>"
      ],
      "text/plain": [
       "   Age_Band_of_Driver  Total_Accidents\n",
       "4                   4           263184\n",
       "3                   5           301139\n",
       "0                   6           514857\n",
       "1                   7           490717\n",
       "2                   8           360487\n",
       "5                   9           216399\n",
       "6                  10           100780\n",
       "7                  11            61996"
      ]
     },
     "execution_count": 85,
     "metadata": {},
     "output_type": "execute_result"
    }
   ],
   "source": [
    "#Count the amount of accidents per Age and store them into a new dataframe.\n",
    "df_age = df['Age_Band_of_Driver']\n",
    "df_age_count = df_age.value_counts().rename_axis('Age_Band_of_Driver').reset_index(name='Total_Accidents')\n",
    "df_age_count = df_age_count.sort_values(by ='Age_Band_of_Driver')\n",
    "df_age_count"
   ]
  },
  {
   "cell_type": "markdown",
   "metadata": {},
   "source": [
    "Using the dataset's Attribute Information, we can convert the Age_Band_of_Driver column into a categorical variable, in order to draw conclusions."
   ]
  },
  {
   "cell_type": "code",
   "execution_count": 82,
   "metadata": {},
   "outputs": [],
   "source": [
    "#Create function that converts Sex_of_Driver to a categorical variable.\n",
    "def age(x):\n",
    "    if x==4:\n",
    "        return '16-20'\n",
    "    if x==5:\n",
    "        return '21-25'\n",
    "    if x==6:\n",
    "        return '26-35'\n",
    "    if x==7:\n",
    "        return '36-45'\n",
    "    if x==8:\n",
    "        return '46-55'\n",
    "    if x==9:\n",
    "        return '56-65'\n",
    "    if x==10:\n",
    "        return '66-75'\n",
    "    if x==11:\n",
    "        return 'Over 75'"
   ]
  },
  {
   "cell_type": "code",
   "execution_count": 86,
   "metadata": {},
   "outputs": [
    {
     "data": {
      "text/html": [
       "<div>\n",
       "<style scoped>\n",
       "    .dataframe tbody tr th:only-of-type {\n",
       "        vertical-align: middle;\n",
       "    }\n",
       "\n",
       "    .dataframe tbody tr th {\n",
       "        vertical-align: top;\n",
       "    }\n",
       "\n",
       "    .dataframe thead th {\n",
       "        text-align: right;\n",
       "    }\n",
       "</style>\n",
       "<table border=\"1\" class=\"dataframe\">\n",
       "  <thead>\n",
       "    <tr style=\"text-align: right;\">\n",
       "      <th></th>\n",
       "      <th>Age_Band_of_Driver</th>\n",
       "      <th>Total_Accidents</th>\n",
       "    </tr>\n",
       "  </thead>\n",
       "  <tbody>\n",
       "    <tr>\n",
       "      <th>4</th>\n",
       "      <td>16-20</td>\n",
       "      <td>263184</td>\n",
       "    </tr>\n",
       "    <tr>\n",
       "      <th>3</th>\n",
       "      <td>21-25</td>\n",
       "      <td>301139</td>\n",
       "    </tr>\n",
       "    <tr>\n",
       "      <th>0</th>\n",
       "      <td>26-35</td>\n",
       "      <td>514857</td>\n",
       "    </tr>\n",
       "    <tr>\n",
       "      <th>1</th>\n",
       "      <td>36-45</td>\n",
       "      <td>490717</td>\n",
       "    </tr>\n",
       "    <tr>\n",
       "      <th>2</th>\n",
       "      <td>46-55</td>\n",
       "      <td>360487</td>\n",
       "    </tr>\n",
       "    <tr>\n",
       "      <th>5</th>\n",
       "      <td>56-65</td>\n",
       "      <td>216399</td>\n",
       "    </tr>\n",
       "    <tr>\n",
       "      <th>6</th>\n",
       "      <td>66-75</td>\n",
       "      <td>100780</td>\n",
       "    </tr>\n",
       "    <tr>\n",
       "      <th>7</th>\n",
       "      <td>Over 75</td>\n",
       "      <td>61996</td>\n",
       "    </tr>\n",
       "  </tbody>\n",
       "</table>\n",
       "</div>"
      ],
      "text/plain": [
       "  Age_Band_of_Driver  Total_Accidents\n",
       "4              16-20           263184\n",
       "3              21-25           301139\n",
       "0              26-35           514857\n",
       "1              36-45           490717\n",
       "2              46-55           360487\n",
       "5              56-65           216399\n",
       "6              66-75           100780\n",
       "7            Over 75            61996"
      ]
     },
     "execution_count": 86,
     "metadata": {},
     "output_type": "execute_result"
    }
   ],
   "source": [
    "#Convert\n",
    "df_age_count['Age_Band_of_Driver']=df_age_count['Age_Band_of_Driver'].apply(lambda x: age(x))\n",
    "df_age_count"
   ]
  },
  {
   "cell_type": "code",
   "execution_count": 87,
   "metadata": {},
   "outputs": [
    {
     "data": {
      "text/plain": [
       "Text(0.5, 1.0, \"Total Accidents per Driver's Age\")"
      ]
     },
     "execution_count": 87,
     "metadata": {},
     "output_type": "execute_result"
    },
    {
     "data": {
      "image/png": "[encoded data removed]",
      "text/plain": [
       "<Figure size 720x720 with 1 Axes>"
      ]
     },
     "metadata": {
      "needs_background": "light"
     },
     "output_type": "display_data"
    }
   ],
   "source": [
    "#Plot Accidents per Driver's age.\n",
    "plt.figure(figsize=(10,10))\n",
    "ax=sns.barplot('Age_Band_of_Driver','Total_Accidents',data=df_age_count,ci=None, palette='Set2')\n",
    "ax.set_xlabel(\"Age\",fontsize=20)\n",
    "ax.set_ylabel(\"Total Accidents\",fontsize=20)\n",
    "ax.tick_params(labelsize=12)\n",
    "#Annotate the bars with percentages.\n",
    "total = df_age_count['Total_Accidents'].sum()\n",
    "for p in ax.patches:\n",
    "            height = p.get_height()\n",
    "            ax.text(p.get_x()+p.get_width()/2.,\n",
    "            height + 3,\n",
    "            '{:1.2f}'.format(100 * height/total),\n",
    "            ha=\"center\",fontsize=20)\n",
    "plt.title('Total Accidents per Driver\\'s Age',fontsize=30)"
   ]
  },
  {
   "cell_type": "markdown",
   "metadata": {},
   "source": [
    "Someone would expect that younger drivers that lack driving experience or older ones that lack the reflexes, would be mostly associated with accidents. The barplot shows another case, where accidents are caused from drivers aged 26-55. Maybe overconfidence is a big factor in this case and causes more accidents without the driver's experience or reflexes being important. This feature is one we should use in our model given the important information it contains."
   ]
  },
  {
   "cell_type": "markdown",
   "metadata": {},
   "source": [
    "<h2> Relation of Accidents with Vehicle's Age </h2>"
   ]
  },
  {
   "cell_type": "code",
   "execution_count": 78,
   "metadata": {},
   "outputs": [
    {
     "data": {
      "text/html": [
       "<div>\n",
       "<style scoped>\n",
       "    .dataframe tbody tr th:only-of-type {\n",
       "        vertical-align: middle;\n",
       "    }\n",
       "\n",
       "    .dataframe tbody tr th {\n",
       "        vertical-align: top;\n",
       "    }\n",
       "\n",
       "    .dataframe thead th {\n",
       "        text-align: right;\n",
       "    }\n",
       "</style>\n",
       "<table border=\"1\" class=\"dataframe\">\n",
       "  <thead>\n",
       "    <tr style=\"text-align: right;\">\n",
       "      <th></th>\n",
       "      <th>Age_of_Vehicle</th>\n",
       "      <th>Total_Accidents</th>\n",
       "    </tr>\n",
       "  </thead>\n",
       "  <tbody>\n",
       "    <tr>\n",
       "      <th>0</th>\n",
       "      <td>1</td>\n",
       "      <td>235803</td>\n",
       "    </tr>\n",
       "    <tr>\n",
       "      <th>5</th>\n",
       "      <td>2</td>\n",
       "      <td>225501</td>\n",
       "    </tr>\n",
       "    <tr>\n",
       "      <th>7</th>\n",
       "      <td>3</td>\n",
       "      <td>222647</td>\n",
       "    </tr>\n",
       "    <tr>\n",
       "      <th>4</th>\n",
       "      <td>4</td>\n",
       "      <td>228448</td>\n",
       "    </tr>\n",
       "    <tr>\n",
       "      <th>2</th>\n",
       "      <td>5</td>\n",
       "      <td>229101</td>\n",
       "    </tr>\n",
       "    <tr>\n",
       "      <th>...</th>\n",
       "      <td>...</td>\n",
       "      <td>...</td>\n",
       "    </tr>\n",
       "    <tr>\n",
       "      <th>67</th>\n",
       "      <td>99</td>\n",
       "      <td>8</td>\n",
       "    </tr>\n",
       "    <tr>\n",
       "      <th>85</th>\n",
       "      <td>100</td>\n",
       "      <td>1</td>\n",
       "    </tr>\n",
       "    <tr>\n",
       "      <th>84</th>\n",
       "      <td>108</td>\n",
       "      <td>1</td>\n",
       "    </tr>\n",
       "    <tr>\n",
       "      <th>92</th>\n",
       "      <td>110</td>\n",
       "      <td>1</td>\n",
       "    </tr>\n",
       "    <tr>\n",
       "      <th>93</th>\n",
       "      <td>111</td>\n",
       "      <td>1</td>\n",
       "    </tr>\n",
       "  </tbody>\n",
       "</table>\n",
       "<p>94 rows × 2 columns</p>\n",
       "</div>"
      ],
      "text/plain": [
       "    Age_of_Vehicle  Total_Accidents\n",
       "0                1           235803\n",
       "5                2           225501\n",
       "7                3           222647\n",
       "4                4           228448\n",
       "2                5           229101\n",
       "..             ...              ...\n",
       "67              99                8\n",
       "85             100                1\n",
       "84             108                1\n",
       "92             110                1\n",
       "93             111                1\n",
       "\n",
       "[94 rows x 2 columns]"
      ]
     },
     "execution_count": 78,
     "metadata": {},
     "output_type": "execute_result"
    }
   ],
   "source": [
    "#Count the amount of accidents per Age and store them into a new dataframe.\n",
    "df_age = df['Age_of_Vehicle']\n",
    "df_age_count = df_age.value_counts().rename_axis('Age_of_Vehicle').reset_index(name='Total_Accidents')\n",
    "df_age_count = df_age_count.sort_values(by ='Age_of_Vehicle')\n",
    "df_age_count"
   ]
  },
  {
   "cell_type": "markdown",
   "metadata": {},
   "source": [
    "Let's convert the vehicle's age from discrete values to age bands."
   ]
  },
  {
   "cell_type": "code",
   "execution_count": 79,
   "metadata": {},
   "outputs": [
    {
     "data": {
      "text/html": [
       "<div>\n",
       "<style scoped>\n",
       "    .dataframe tbody tr th:only-of-type {\n",
       "        vertical-align: middle;\n",
       "    }\n",
       "\n",
       "    .dataframe tbody tr th {\n",
       "        vertical-align: top;\n",
       "    }\n",
       "\n",
       "    .dataframe thead th {\n",
       "        text-align: right;\n",
       "    }\n",
       "</style>\n",
       "<table border=\"1\" class=\"dataframe\">\n",
       "  <thead>\n",
       "    <tr style=\"text-align: right;\">\n",
       "      <th></th>\n",
       "      <th>Age_of_Vehicle</th>\n",
       "      <th>Total_Accidents</th>\n",
       "      <th>Age_Band_of_Vehicle</th>\n",
       "    </tr>\n",
       "  </thead>\n",
       "  <tbody>\n",
       "    <tr>\n",
       "      <th>0</th>\n",
       "      <td>1</td>\n",
       "      <td>235803</td>\n",
       "      <td>1-9</td>\n",
       "    </tr>\n",
       "    <tr>\n",
       "      <th>5</th>\n",
       "      <td>2</td>\n",
       "      <td>225501</td>\n",
       "      <td>1-9</td>\n",
       "    </tr>\n",
       "    <tr>\n",
       "      <th>7</th>\n",
       "      <td>3</td>\n",
       "      <td>222647</td>\n",
       "      <td>1-9</td>\n",
       "    </tr>\n",
       "    <tr>\n",
       "      <th>4</th>\n",
       "      <td>4</td>\n",
       "      <td>228448</td>\n",
       "      <td>1-9</td>\n",
       "    </tr>\n",
       "    <tr>\n",
       "      <th>2</th>\n",
       "      <td>5</td>\n",
       "      <td>229101</td>\n",
       "      <td>1-9</td>\n",
       "    </tr>\n",
       "    <tr>\n",
       "      <th>...</th>\n",
       "      <td>...</td>\n",
       "      <td>...</td>\n",
       "      <td>...</td>\n",
       "    </tr>\n",
       "    <tr>\n",
       "      <th>67</th>\n",
       "      <td>99</td>\n",
       "      <td>8</td>\n",
       "      <td>90-99</td>\n",
       "    </tr>\n",
       "    <tr>\n",
       "      <th>85</th>\n",
       "      <td>100</td>\n",
       "      <td>1</td>\n",
       "      <td>90-99</td>\n",
       "    </tr>\n",
       "    <tr>\n",
       "      <th>84</th>\n",
       "      <td>108</td>\n",
       "      <td>1</td>\n",
       "      <td>Over 100</td>\n",
       "    </tr>\n",
       "    <tr>\n",
       "      <th>92</th>\n",
       "      <td>110</td>\n",
       "      <td>1</td>\n",
       "      <td>NaN</td>\n",
       "    </tr>\n",
       "    <tr>\n",
       "      <th>93</th>\n",
       "      <td>111</td>\n",
       "      <td>1</td>\n",
       "      <td>NaN</td>\n",
       "    </tr>\n",
       "  </tbody>\n",
       "</table>\n",
       "<p>94 rows × 3 columns</p>\n",
       "</div>"
      ],
      "text/plain": [
       "    Age_of_Vehicle  Total_Accidents Age_Band_of_Vehicle\n",
       "0                1           235803                 1-9\n",
       "5                2           225501                 1-9\n",
       "7                3           222647                 1-9\n",
       "4                4           228448                 1-9\n",
       "2                5           229101                 1-9\n",
       "..             ...              ...                 ...\n",
       "67              99                8               90-99\n",
       "85             100                1               90-99\n",
       "84             108                1            Over 100\n",
       "92             110                1                 NaN\n",
       "93             111                1                 NaN\n",
       "\n",
       "[94 rows x 3 columns]"
      ]
     },
     "execution_count": 79,
     "metadata": {},
     "output_type": "execute_result"
    }
   ],
   "source": [
    "#Create the age bandd, assing each element in the column age_of_vehicle to an age band and store its age band value to\n",
    "# a new column named age_band_of_vehicle.\n",
    "bins = [1, 10, 20, 30, 40, 50, 60, 70, 80, 90, 100, 108]\n",
    "labels = ['1-9', '10-19', '20-29', '30-39', '40-49', '50-59', '60-69', '70-79', '80-89', '90-99', 'Over 100']\n",
    "df_age_count['Age_Band_of_Vehicle'] = pd.cut(df_age_count.Age_of_Vehicle, bins, labels = labels,include_lowest = True)\n",
    "df_age_count"
   ]
  },
  {
   "cell_type": "code",
   "execution_count": 80,
   "metadata": {},
   "outputs": [
    {
     "data": {
      "text/html": [
       "<div>\n",
       "<style scoped>\n",
       "    .dataframe tbody tr th:only-of-type {\n",
       "        vertical-align: middle;\n",
       "    }\n",
       "\n",
       "    .dataframe tbody tr th {\n",
       "        vertical-align: top;\n",
       "    }\n",
       "\n",
       "    .dataframe thead th {\n",
       "        text-align: right;\n",
       "    }\n",
       "</style>\n",
       "<table border=\"1\" class=\"dataframe\">\n",
       "  <thead>\n",
       "    <tr style=\"text-align: right;\">\n",
       "      <th></th>\n",
       "      <th>Age_Band_of_Vehicle</th>\n",
       "      <th>Total_Accidents</th>\n",
       "    </tr>\n",
       "  </thead>\n",
       "  <tbody>\n",
       "    <tr>\n",
       "      <th>0</th>\n",
       "      <td>1-9</td>\n",
       "      <td>2237243</td>\n",
       "    </tr>\n",
       "    <tr>\n",
       "      <th>1</th>\n",
       "      <td>10-19</td>\n",
       "      <td>629225</td>\n",
       "    </tr>\n",
       "    <tr>\n",
       "      <th>2</th>\n",
       "      <td>20-29</td>\n",
       "      <td>16979</td>\n",
       "    </tr>\n",
       "    <tr>\n",
       "      <th>3</th>\n",
       "      <td>30-39</td>\n",
       "      <td>1702</td>\n",
       "    </tr>\n",
       "    <tr>\n",
       "      <th>4</th>\n",
       "      <td>40-49</td>\n",
       "      <td>704</td>\n",
       "    </tr>\n",
       "    <tr>\n",
       "      <th>5</th>\n",
       "      <td>50-59</td>\n",
       "      <td>303</td>\n",
       "    </tr>\n",
       "    <tr>\n",
       "      <th>6</th>\n",
       "      <td>60-69</td>\n",
       "      <td>63</td>\n",
       "    </tr>\n",
       "    <tr>\n",
       "      <th>7</th>\n",
       "      <td>70-79</td>\n",
       "      <td>71</td>\n",
       "    </tr>\n",
       "    <tr>\n",
       "      <th>8</th>\n",
       "      <td>80-89</td>\n",
       "      <td>21</td>\n",
       "    </tr>\n",
       "    <tr>\n",
       "      <th>9</th>\n",
       "      <td>90-99</td>\n",
       "      <td>10</td>\n",
       "    </tr>\n",
       "    <tr>\n",
       "      <th>10</th>\n",
       "      <td>Over 100</td>\n",
       "      <td>1</td>\n",
       "    </tr>\n",
       "  </tbody>\n",
       "</table>\n",
       "</div>"
      ],
      "text/plain": [
       "   Age_Band_of_Vehicle  Total_Accidents\n",
       "0                  1-9          2237243\n",
       "1                10-19           629225\n",
       "2                20-29            16979\n",
       "3                30-39             1702\n",
       "4                40-49              704\n",
       "5                50-59              303\n",
       "6                60-69               63\n",
       "7                70-79               71\n",
       "8                80-89               21\n",
       "9                90-99               10\n",
       "10            Over 100                1"
      ]
     },
     "execution_count": 80,
     "metadata": {},
     "output_type": "execute_result"
    }
   ],
   "source": [
    "#Group the data by the age band and sum the total accidents for each band.\n",
    "df_age_count = df_age_count.groupby(by=['Age_Band_of_Vehicle'],as_index=False).sum()\n",
    "df_age_count.drop(['Age_of_Vehicle'],inplace=True,axis=1)\n",
    "df_age_count"
   ]
  },
  {
   "cell_type": "code",
   "execution_count": 108,
   "metadata": {},
   "outputs": [
    {
     "data": {
      "text/plain": [
       "Text(0.5, 1.0, \"Total Accidents per Vehicle's Age\")"
      ]
     },
     "execution_count": 108,
     "metadata": {},
     "output_type": "execute_result"
    },
    {
     "data": {
      "image/png": "[encoded data removed]",
      "text/plain": [
       "<Figure size 864x720 with 1 Axes>"
      ]
     },
     "metadata": {
      "needs_background": "light"
     },
     "output_type": "display_data"
    }
   ],
   "source": [
    "#Plot Accidents per Vehicle's age.\n",
    "plt.figure(figsize=(12,10))\n",
    "ax=sns.barplot('Age_Band_of_Vehicle','Total_Accidents',data=df_age_count,ci=None, palette='Set2')\n",
    "ax.set_xlabel(\"Age\",fontsize=20)\n",
    "ax.set_ylabel(\"Total Accidents\",fontsize=20)\n",
    "ax.tick_params(labelsize=12)\n",
    "#Annotate the bars with percentages.\n",
    "total = df_age_count['Total_Accidents'].sum()\n",
    "for p in ax.patches:\n",
    "            height = p.get_height()\n",
    "            ax.text(p.get_x()+p.get_width()/2.,\n",
    "            height + 3,\n",
    "            '{:1.2f}'.format(100 * height/total),\n",
    "            ha=\"center\",fontsize=20)\n",
    "plt.title('Total Accidents per Vehicle\\'s Age',fontsize=30)"
   ]
  },
  {
   "cell_type": "markdown",
   "metadata": {},
   "source": [
    "The vehicle's age does not seems to play an important role at the amount of accidents. The most logical reason would be that most of the vehicles on the road are less than 10 years old, creating this imbalance in the dataset."
   ]
  },
  {
   "cell_type": "code",
   "execution_count": 20,
   "metadata": {},
   "outputs": [],
   "source": [
    "#Drop the 'Age_of_Vehicle' column\n",
    "df.drop(['Age_of_Vehicle'],inplace=True,axis=1)"
   ]
  },
  {
   "cell_type": "markdown",
   "metadata": {},
   "source": [
    "<h1> 4. Predictive Modeling </h1>"
   ]
  },
  {
   "cell_type": "markdown",
   "metadata": {},
   "source": [
    "After the analysis these are the 4 features selected as predictors plus Accident Severity column which is the target variable."
   ]
  },
  {
   "cell_type": "code",
   "execution_count": 21,
   "metadata": {},
   "outputs": [
    {
     "data": {
      "text/plain": [
       "Index(['Accident_Severity', 'Light_Conditions', 'Urban_or_Rural_Area',\n",
       "       'Age_Band_of_Driver', 'Hour'],\n",
       "      dtype='object')"
      ]
     },
     "execution_count": 21,
     "metadata": {},
     "output_type": "execute_result"
    }
   ],
   "source": [
    "df.columns"
   ]
  },
  {
   "cell_type": "code",
   "execution_count": 337,
   "metadata": {},
   "outputs": [
    {
     "data": {
      "text/plain": [
       "(2309559, 5)"
      ]
     },
     "execution_count": 337,
     "metadata": {},
     "output_type": "execute_result"
    }
   ],
   "source": [
    "df.shape"
   ]
  },
  {
   "cell_type": "markdown",
   "metadata": {},
   "source": [
    "The target attribute in our case is Accident Severity, a categorical variable with 3 discrete values (1: Fatal, 2: Serious, 3: Fatal). Based on the features we selected, we need our model to classify the severity of a possible accident. For that reason, we are going to use a classification model in order to make predictions. "
   ]
  },
  {
   "cell_type": "code",
   "execution_count": 30,
   "metadata": {},
   "outputs": [],
   "source": [
    "import sklearn\n",
    "from sklearn.preprocessing import StandardScaler\n",
    "from sklearn import preprocessing\n",
    "from sklearn.model_selection import train_test_split\n",
    "from sklearn.neighbors import KNeighborsClassifier\n",
    "import imblearn\n",
    "from imblearn.over_sampling import RandomOverSampler\n",
    "from imblearn.under_sampling import RandomUnderSampler\n",
    "from collections import Counter\n",
    "from sklearn.linear_model import LogisticRegression\n",
    "from sklearn.metrics import confusion_matrix\n",
    "from sklearn import metrics\n",
    "from sklearn.tree import DecisionTreeClassifier\n",
    "from sklearn.metrics import f1_score"
   ]
  },
  {
   "cell_type": "code",
   "execution_count": 23,
   "metadata": {},
   "outputs": [
    {
     "data": {
      "text/plain": [
       "array([[ 1,  7, 17,  4],\n",
       "       [ 1,  6,  0,  4],\n",
       "       [ 1,  9,  0,  4],\n",
       "       [ 1,  8, 10,  1],\n",
       "       [ 1,  8, 21,  7]])"
      ]
     },
     "execution_count": 23,
     "metadata": {},
     "output_type": "execute_result"
    }
   ],
   "source": [
    "#Create an array that contains the features we selected.\n",
    "X = np.asarray(df[['Urban_or_Rural_Area','Age_Band_of_Driver','Hour','Light_Conditions']].astype('int'))\n",
    "X[0:5]"
   ]
  },
  {
   "cell_type": "code",
   "execution_count": 24,
   "metadata": {},
   "outputs": [
    {
     "data": {
      "text/plain": [
       "array([[-0.86525807,  0.14169598,  0.658802  ,  1.25872853],\n",
       "       [-0.86525807, -0.43140846, -2.74990521,  1.25872853],\n",
       "       [-0.86525807,  1.28790486, -2.74990521,  1.25872853],\n",
       "       [-0.86525807,  0.71480042, -0.74478332, -0.56777877],\n",
       "       [-0.86525807,  0.71480042,  1.46085076,  3.08523583]])"
      ]
     },
     "execution_count": 24,
     "metadata": {},
     "output_type": "execute_result"
    }
   ],
   "source": [
    "#Standarize the data.\n",
    "X = preprocessing.StandardScaler().fit(X).transform(X)\n",
    "X[0:5]"
   ]
  },
  {
   "cell_type": "code",
   "execution_count": 25,
   "metadata": {},
   "outputs": [
    {
     "data": {
      "text/plain": [
       "array([3, 3, 3, 3, 3], dtype=int64)"
      ]
     },
     "execution_count": 25,
     "metadata": {},
     "output_type": "execute_result"
    }
   ],
   "source": [
    "#Create an array that contains the target variable values.\n",
    "y = np.asarray(df['Accident_Severity'])\n",
    "y[0:5]"
   ]
  },
  {
   "cell_type": "code",
   "execution_count": 26,
   "metadata": {},
   "outputs": [
    {
     "name": "stdout",
     "output_type": "stream",
     "text": [
      "Test set: (577265, 4) (577265,)\n",
      "Train set: (2309059, 4) (2309059,)\n"
     ]
    }
   ],
   "source": [
    "#Split the data into train and test sets.\n",
    "X_train, X_test, y_train, y_test = train_test_split( X, y, test_size=0.2, random_state=4)\n",
    "print ('Test set:', X_test.shape,  y_test.shape)\n",
    "print ('Train set:', X_train.shape,  y_train.shape)"
   ]
  },
  {
   "cell_type": "markdown",
   "metadata": {},
   "source": [
    "<h2> Logistic Regression </h2>"
   ]
  },
  {
   "cell_type": "code",
   "execution_count": 407,
   "metadata": {},
   "outputs": [],
   "source": [
    "#Build the model using LogisticRegression and predict using the test dataset.\n",
    "LR = LogisticRegression(C=0.01, solver='liblinear').fit(X_train,y_train)\n",
    "yhat = LR.predict(X_test)"
   ]
  },
  {
   "cell_type": "markdown",
   "metadata": {},
   "source": [
    "One metric we are going to use to evaluate the models is the confusion matrix that shows a clear visualization on how the model is predicting among the different classes. The model's accurasy is evaluated using Macro average f1-score. Macro average is preferable in mutli-class classification, especially when there are class imbalances in the data. "
   ]
  },
  {
   "cell_type": "code",
   "execution_count": 137,
   "metadata": {},
   "outputs": [],
   "source": [
    "#Classification matrix for evaluation.\n",
    "from sklearn.metrics import classification_report, confusion_matrix\n",
    "def plot_confusion_matrix(cm, classes,\n",
    "                          normalize=False,\n",
    "                          title='Confusion matrix',\n",
    "                          cmap=plt.cm.Blues):\n",
    "    \"\"\"\n",
    "    This function prints and plots the confusion matrix.\n",
    "    Normalization can be applied by setting `normalize=True`.\n",
    "    \"\"\"\n",
    "    import itertools\n",
    "    if normalize:\n",
    "        cm = cm.astype('float') / cm.sum(axis=1)[:, np.newaxis]\n",
    "        print(\"Normalized confusion matrix\")\n",
    "    else:\n",
    "        print('Confusion matrix, without normalization')\n",
    "\n",
    "    print(cm)\n",
    "\n",
    "    plt.imshow(cm, interpolation='nearest', cmap=cmap)\n",
    "    plt.title(title)\n",
    "    plt.colorbar()\n",
    "    tick_marks = np.arange(len(classes))\n",
    "    plt.xticks(tick_marks, classes, rotation=45)\n",
    "    plt.yticks(tick_marks, classes)\n",
    "\n",
    "    fmt = '.2f' if normalize else 'd'\n",
    "    thresh = cm.max() / 2.\n",
    "    for i, j in itertools.product(range(cm.shape[0]), range(cm.shape[1])):\n",
    "        plt.text(j, i, format(cm[i, j], fmt),\n",
    "                 horizontalalignment=\"center\",\n",
    "                 color=\"white\" if cm[i, j] > thresh else \"black\")\n",
    "\n",
    "    plt.ylabel('True label')\n",
    "    plt.xlabel('Predicted label')\n",
    "    plt.tight_layout()"
   ]
  },
  {
   "cell_type": "code",
   "execution_count": 343,
   "metadata": {
    "scrolled": false
   },
   "outputs": [
    {
     "name": "stdout",
     "output_type": "stream",
     "text": [
      "Confusion matrix, without normalization\n",
      "[[     0      0   8925]\n",
      " [     0      0  64492]\n",
      " [     0      0 388495]]\n"
     ]
    },
    {
     "data": {
      "image/png": "[encoded data removed]",
      "text/plain": [
       "<Figure size 432x288 with 2 Axes>"
      ]
     },
     "metadata": {
      "needs_background": "light"
     },
     "output_type": "display_data"
    }
   ],
   "source": [
    "cnf_matrix = confusion_matrix(y_test, yhat,labels=[1,2,3])\n",
    "np.set_printoptions(precision=2)\n",
    "\n",
    "# Plot non-normalized confusion matrix\n",
    "plt.figure()\n",
    "plot_confusion_matrix(cnf_matrix, classes=[1,2,3],\n",
    "                      title='Confusion matrix, without normalization')"
   ]
  },
  {
   "cell_type": "code",
   "execution_count": 344,
   "metadata": {},
   "outputs": [
    {
     "name": "stdout",
     "output_type": "stream",
     "text": [
      "\n",
      "Classification Report\n",
      "\n",
      "              precision    recall  f1-score   support\n",
      "\n",
      "     Class 1       0.00      0.00      0.00      8925\n",
      "     Class 2       0.00      0.00      0.00     64492\n",
      "     Class 3       0.84      1.00      0.91    388495\n",
      "\n",
      "    accuracy                           0.84    461912\n",
      "   macro avg       0.28      0.33      0.30    461912\n",
      "weighted avg       0.71      0.84      0.77    461912\n",
      "\n"
     ]
    }
   ],
   "source": [
    "print('\\nClassification Report\\n')\n",
    "print(classification_report(y_test, yhat, target_names=['Class 1', 'Class 2', 'Class 3']))"
   ]
  },
  {
   "cell_type": "markdown",
   "metadata": {},
   "source": [
    "The model has an accurasy of 84% which is very good, but it is nothing more than an 'illusion'. Looking at the confusion matrix above we can see that our model predicts only accidents with Slight Severity (label=3). The average f1-score for the classes is also 0.30 (macro avg). The reason that this happens is because most accidents in the dataset are classified as slight(class 3). "
   ]
  },
  {
   "cell_type": "code",
   "execution_count": 345,
   "metadata": {},
   "outputs": [
    {
     "data": {
      "text/plain": [
       "3    1941990\n",
       "2     322278\n",
       "1      45291\n",
       "Name: Accident_Severity, dtype: int64"
      ]
     },
     "execution_count": 345,
     "metadata": {},
     "output_type": "execute_result"
    }
   ],
   "source": [
    "#Count the values for each class\n",
    "df['Accident_Severity'].value_counts()"
   ]
  },
  {
   "cell_type": "code",
   "execution_count": 349,
   "metadata": {},
   "outputs": [
    {
     "name": "stdout",
     "output_type": "stream",
     "text": [
      "The percentage of Slight accidents in the dataset is 84.08%\n"
     ]
    }
   ],
   "source": [
    "#Count the percentage of slight accidents in the dataset.\n",
    "Slight_Accidents = 1941990\n",
    "Serious_and_Fatal_Accidents = 322278 + 45291\n",
    "Total = Slight_Accidents + Serious_and_Fatal_Accidents\n",
    "Percentage = Slight_Accidents*100/Total\n",
    "print(\"The percentage of Slight accidents in the dataset is {:1.2f}%\".format(Percentage))"
   ]
  },
  {
   "cell_type": "markdown",
   "metadata": {},
   "source": [
    "The model is, in other words, 'fed' data that contains mostly accidents of only one 1 class and is struggling to find patterns that differentiate the other 2 classes. What we have in our hands is a very imbalanced dataset but this is a realistic problem when it comes to 'real-life' data. There are ways to engineer the data in order to improve the model. After some research on the topic i came across Python's library imbalanced-learn, which is fully compatible with scikit-learn. The library offers resampling methods which are going to be used in order to bring some balance in the dataset."
   ]
  },
  {
   "cell_type": "markdown",
   "metadata": {},
   "source": [
    "<h3> Resampling </h3>"
   ]
  },
  {
   "cell_type": "markdown",
   "metadata": {},
   "source": [
    "A widely adopted technique for dealing with highly unbalanced datasets is called resampling. It consists of removing samples from the majority class (under-sampling) and / or adding more examples from the minority class (over-sampling).\n",
    "Despite the advantage of balancing classes, these techniques also have their weaknesses (there is no free lunch). The simplest implementation of over-sampling is to duplicate random records from the minority class, which can cause overfitting. In under-sampling, the simplest technique involves removing random records from the majority class, which can cause loss of information."
   ]
  },
  {
   "cell_type": "markdown",
   "metadata": {},
   "source": [
    "A very important step in this procedure is to first split our data into train and test datasets and then apply Resampling only on the training set, and not the testing set, in order to test our model on original data."
   ]
  },
  {
   "cell_type": "markdown",
   "metadata": {},
   "source": [
    "The first step will be to undersample the majority class."
   ]
  },
  {
   "cell_type": "code",
   "execution_count": 357,
   "metadata": {},
   "outputs": [
    {
     "name": "stdout",
     "output_type": "stream",
     "text": [
      "Frequency of unique values of the said array:\n",
      "[[      1       2       3]\n",
      " [  36366  257786 1553495]]\n"
     ]
    }
   ],
   "source": [
    "#Count the amount of samples for each class.\n",
    "unique_elements, counts_elements = np.unique(y_train, return_counts=True)\n",
    "print(\"Frequency of unique values of the said array:\")\n",
    "print(np.asarray((unique_elements, counts_elements)))"
   ]
  },
  {
   "cell_type": "markdown",
   "metadata": {},
   "source": [
    "The code above prints samples for each class in the training set. We create our sampling strategy by copying the values for the first and the second class. After that we undersample the third class to 360.000 samples."
   ]
  },
  {
   "cell_type": "code",
   "execution_count": 27,
   "metadata": {},
   "outputs": [
    {
     "name": "stdout",
     "output_type": "stream",
     "text": [
      "Counter({3: 360000, 2: 257786, 1: 36366})\n"
     ]
    }
   ],
   "source": [
    "# define undersample strategy\n",
    "sampling_strategy1 = {1: 36366, 2: 257786  , 3: 360000}\n",
    "undersample = RandomUnderSampler(sampling_strategy=sampling_strategy1)\n",
    "# fit and apply the transform\n",
    "X_over, y_over = undersample.fit_resample(X_train, y_train)\n",
    "print(Counter(y_over))"
   ]
  },
  {
   "cell_type": "markdown",
   "metadata": {},
   "source": [
    "The second step will be to oversample the two minority classes."
   ]
  },
  {
   "cell_type": "code",
   "execution_count": 28,
   "metadata": {},
   "outputs": [
    {
     "name": "stdout",
     "output_type": "stream",
     "text": [
      "Counter({3: 360000, 2: 340000, 1: 200000})\n"
     ]
    }
   ],
   "source": [
    "# define oversampling strategy\n",
    "sampling_strategy2 = {1: 200000, 2: 340000, 3: 360000}\n",
    "oversample = RandomOverSampler(sampling_strategy=sampling_strategy2)\n",
    "# fit and apply the transform\n",
    "X_over, y_over = oversample.fit_resample(X_over, y_over)\n",
    "print(Counter(y_over))"
   ]
  },
  {
   "cell_type": "markdown",
   "metadata": {},
   "source": [
    "The process of oversampling is now finished and we can build our model."
   ]
  },
  {
   "cell_type": "code",
   "execution_count": 434,
   "metadata": {},
   "outputs": [],
   "source": [
    "#Build the model using LogisticRegression and predict using the test dataset.\n",
    "LR = LogisticRegression(C=0.01, solver='lbfgs').fit(X_over,y_over)\n",
    "yhat = LR.predict(X_test)"
   ]
  },
  {
   "cell_type": "code",
   "execution_count": 435,
   "metadata": {},
   "outputs": [
    {
     "name": "stdout",
     "output_type": "stream",
     "text": [
      "Confusion matrix, without normalization\n",
      "[[  1944   4802   2179]\n",
      " [  7065  28224  29203]\n",
      " [ 22631 132975 232889]]\n"
     ]
    },
    {
     "data": {
      "image/png": "[encoded data removed]",
      "text/plain": [
       "<Figure size 432x288 with 2 Axes>"
      ]
     },
     "metadata": {
      "needs_background": "light"
     },
     "output_type": "display_data"
    }
   ],
   "source": [
    "cnf_matrix = confusion_matrix(y_test, yhat,labels=[1,2,3])\n",
    "np.set_printoptions(precision=2)\n",
    "\n",
    "# Plot non-normalized confusion matrix\n",
    "plt.figure()\n",
    "plot_confusion_matrix(cnf_matrix, classes=[1,2,3],\n",
    "                      title='Confusion matrix, without normalization')"
   ]
  },
  {
   "cell_type": "code",
   "execution_count": 436,
   "metadata": {},
   "outputs": [
    {
     "name": "stdout",
     "output_type": "stream",
     "text": [
      "\n",
      "Classification Report\n",
      "\n",
      "              precision    recall  f1-score   support\n",
      "\n",
      "     Class 1       0.06      0.22      0.10      8925\n",
      "     Class 2       0.17      0.44      0.24     64492\n",
      "     Class 3       0.88      0.60      0.71    388495\n",
      "\n",
      "    accuracy                           0.57    461912\n",
      "   macro avg       0.37      0.42      0.35    461912\n",
      "weighted avg       0.77      0.57      0.64    461912\n",
      "\n"
     ]
    }
   ],
   "source": [
    "print('\\nClassification Report\\n')\n",
    "print(classification_report(y_test, yhat, target_names=['Class 1', 'Class 2', 'Class 3']))"
   ]
  },
  {
   "cell_type": "markdown",
   "metadata": {},
   "source": [
    "Looking at the confusion matrix we can see that the model now predicts accidents severity from all 3 classes. The macro avg is also increased to 0.35 but the results for classes 1,2 are still pretty low. There is definitely a need for more data on Fatal(1) and Serious(2) accidents but using resampling we managed to improve the results."
   ]
  },
  {
   "cell_type": "markdown",
   "metadata": {},
   "source": [
    "<h2> K-Nearest Neighbors </h2>"
   ]
  },
  {
   "cell_type": "markdown",
   "metadata": {},
   "source": [
    "Using the same resampled training dataset (X_over,y_over) we test different values for k ,the number of neighbors, and calculate the macro heighest average f1 score for each k value. "
   ]
  },
  {
   "cell_type": "code",
   "execution_count": 33,
   "metadata": {},
   "outputs": [],
   "source": [
    "Ks = 20\n",
    "mean_acc = np.zeros((Ks-1))\n",
    "std_acc = np.zeros((Ks-1))\n",
    "ConfustionMx = [];\n",
    "for n in range(1,Ks):\n",
    "    \n",
    "    #Train Model and Predict  \n",
    "    neigh = KNeighborsClassifier(n_neighbors = n).fit(X_over,y_over)\n",
    "    yhat=neigh.predict(X_test)\n",
    "    mean_acc[n-1] = f1_score(y_test, yhat, average='macro')\n",
    "\n",
    "    \n",
    "    std_acc[n-1]=np.std(yhat==y_test)/np.sqrt(yhat.shape[0])\n"
   ]
  },
  {
   "cell_type": "code",
   "execution_count": 34,
   "metadata": {},
   "outputs": [
    {
     "data": {
      "image/png": "[encoded data removed]",
      "text/plain": [
       "<Figure size 432x288 with 1 Axes>"
      ]
     },
     "metadata": {
      "needs_background": "light"
     },
     "output_type": "display_data"
    },
    {
     "name": "stdout",
     "output_type": "stream",
     "text": [
      "The best average f1 score was with 0.3392691489055588 with k= 19\n"
     ]
    }
   ],
   "source": [
    "plt.plot(range(1,Ks),mean_acc,'g')\n",
    "plt.fill_between(range(1,Ks),mean_acc - 1 * std_acc,mean_acc + 1 * std_acc, alpha=0.10)\n",
    "plt.legend(('Avg f1 score' , '+/- 3xstd'))\n",
    "plt.ylabel('Average f1 Score ')\n",
    "plt.xlabel('Number of Nabors (K)')\n",
    "plt.tight_layout()\n",
    "plt.show()\n",
    "print( \"The best average f1 score was with\", mean_acc.max(), \"with k=\", mean_acc.argmax()+1)"
   ]
  },
  {
   "cell_type": "markdown",
   "metadata": {},
   "source": [
    "The average f1 score seems to be improving as we add more neighbours in our model. We repeat the process starting from 20 neighbors."
   ]
  },
  {
   "cell_type": "code",
   "execution_count": 35,
   "metadata": {},
   "outputs": [],
   "source": [
    "Ks = 40\n",
    "mean_acc = np.zeros((Ks-1))\n",
    "std_acc = np.zeros((Ks-1))\n",
    "ConfustionMx = [];\n",
    "for n in range(20,Ks):\n",
    "    \n",
    "    #Train Model and Predict  \n",
    "    neigh = KNeighborsClassifier(n_neighbors = n).fit(X_over,y_over)\n",
    "    yhat=neigh.predict(X_test)\n",
    "    mean_acc[n-1] = f1_score(y_test, yhat, average='macro')\n",
    "\n",
    "    \n",
    "    std_acc[n-1]=np.std(yhat==y_test)/np.sqrt(yhat.shape[0])"
   ]
  },
  {
   "cell_type": "code",
   "execution_count": 36,
   "metadata": {},
   "outputs": [
    {
     "data": {
      "image/png": "[encoded data removed]",
      "text/plain": [
       "<Figure size 432x288 with 1 Axes>"
      ]
     },
     "metadata": {
      "needs_background": "light"
     },
     "output_type": "display_data"
    },
    {
     "name": "stdout",
     "output_type": "stream",
     "text": [
      "The best average f1 score was with 0.3465167841864985 with k= 38\n"
     ]
    }
   ],
   "source": [
    "plt.plot(range(1,Ks),mean_acc,'g')\n",
    "plt.fill_between(range(1,Ks),mean_acc - 1 * std_acc,mean_acc + 1 * std_acc, alpha=0.10)\n",
    "plt.legend(('Avg f1 score' , '+/- 3xstd'))\n",
    "plt.ylabel('Average f1 Score ')\n",
    "plt.xlabel('Number of Nabors (K)')\n",
    "plt.tight_layout()\n",
    "plt.show()\n",
    "print( \"The best average f1 score was with\", mean_acc.max(), \"with k=\", mean_acc.argmax()+1)"
   ]
  },
  {
   "cell_type": "markdown",
   "metadata": {},
   "source": [
    "The optimal number of neighbors is at k=38 with an average f1 score of ~0.35, the same score as the Logistic Regression."
   ]
  },
  {
   "cell_type": "markdown",
   "metadata": {},
   "source": [
    "<h2> Support Vector Machine </h2>"
   ]
  },
  {
   "cell_type": "code",
   "execution_count": 390,
   "metadata": {},
   "outputs": [
    {
     "data": {
      "text/plain": [
       "0.6559591153565243"
      ]
     },
     "execution_count": 390,
     "metadata": {},
     "output_type": "execute_result"
    }
   ],
   "source": [
    "from sklearn import svm\n",
    "clf = svm.SVC(kernel='rbf')\n",
    "clf.fit(X_over, y_over)\n",
    "yhat = clf.predict(X_test)\n",
    "from sklearn.metrics import f1_score"
   ]
  },
  {
   "cell_type": "code",
   "execution_count": 391,
   "metadata": {},
   "outputs": [
    {
     "name": "stdout",
     "output_type": "stream",
     "text": [
      "Confusion matrix, without normalization\n",
      "[[  1871   4802   2252]\n",
      " [  6213  27947  30332]\n",
      " [ 18184 125245 245066]]\n"
     ]
    },
    {
     "data": {
      "image/png": "[encoded data removed]",
      "text/plain": [
       "<Figure size 432x288 with 2 Axes>"
      ]
     },
     "metadata": {
      "needs_background": "light"
     },
     "output_type": "display_data"
    }
   ],
   "source": [
    "cnf_matrix = confusion_matrix(y_test, yhat,labels=[1,2,3])\n",
    "np.set_printoptions(precision=2)\n",
    "\n",
    "# Plot non-normalized confusion matrix\n",
    "plt.figure()\n",
    "plot_confusion_matrix(cnf_matrix, classes=[1,2,3],\n",
    "                      title='Confusion matrix, without normalization')"
   ]
  },
  {
   "cell_type": "code",
   "execution_count": 392,
   "metadata": {},
   "outputs": [
    {
     "name": "stdout",
     "output_type": "stream",
     "text": [
      "\n",
      "Classification Report\n",
      "\n",
      "              precision    recall  f1-score   support\n",
      "\n",
      "     Class 1       0.07      0.21      0.11      8925\n",
      "     Class 2       0.18      0.43      0.25     64492\n",
      "     Class 3       0.88      0.63      0.74    388495\n",
      "\n",
      "    accuracy                           0.60    461912\n",
      "   macro avg       0.38      0.42      0.36    461912\n",
      "weighted avg       0.77      0.60      0.66    461912\n",
      "\n"
     ]
    }
   ],
   "source": [
    "print('\\nClassification Report\\n')\n",
    "print(classification_report(y_test, yhat, target_names=['Class 1', 'Class 2', 'Class 3']))"
   ]
  },
  {
   "cell_type": "markdown",
   "metadata": {},
   "source": [
    "A very small improvement when using SVM on the model's accurasy and average f1 score"
   ]
  },
  {
   "cell_type": "markdown",
   "metadata": {},
   "source": [
    "<h2> Decision Tree </h2>"
   ]
  },
  {
   "cell_type": "code",
   "execution_count": 395,
   "metadata": {},
   "outputs": [],
   "source": [
    "drugTree = DecisionTreeClassifier(criterion=\"entropy\", max_depth = 4)\n",
    "drugTree.fit(X_over,y_over)\n",
    "predTree = drugTree.predict(X_test)"
   ]
  },
  {
   "cell_type": "code",
   "execution_count": 402,
   "metadata": {},
   "outputs": [
    {
     "name": "stdout",
     "output_type": "stream",
     "text": [
      "Confusion matrix, without normalization\n",
      "[[  1656   5695   1574]\n",
      " [  5152  34268  25072]\n",
      " [ 14508 161363 212624]]\n"
     ]
    },
    {
     "data": {
      "image/png": "[encoded data removed]",
      "text/plain": [
       "<Figure size 432x288 with 2 Axes>"
      ]
     },
     "metadata": {
      "needs_background": "light"
     },
     "output_type": "display_data"
    }
   ],
   "source": [
    "cnf_matrix = confusion_matrix(y_test, predTree,labels=[1,2,3])\n",
    "np.set_printoptions(precision=2)\n",
    "\n",
    "# Plot non-normalized confusion matrix\n",
    "plt.figure()\n",
    "plot_confusion_matrix(cnf_matrix, classes=[1,2,3],\n",
    "                      title='Confusion matrix, without normalization')"
   ]
  },
  {
   "cell_type": "code",
   "execution_count": 404,
   "metadata": {},
   "outputs": [
    {
     "name": "stdout",
     "output_type": "stream",
     "text": [
      "\n",
      "Classification Report\n",
      "\n",
      "              precision    recall  f1-score   support\n",
      "\n",
      "     Class 1       0.08      0.19      0.11      8925\n",
      "     Class 2       0.17      0.53      0.26     64492\n",
      "     Class 3       0.89      0.55      0.68    388495\n",
      "\n",
      "    accuracy                           0.54    461912\n",
      "   macro avg       0.38      0.42      0.35    461912\n",
      "weighted avg       0.77      0.54      0.61    461912\n",
      "\n"
     ]
    }
   ],
   "source": [
    "print('\\nClassification Report\\n')\n",
    "print(classification_report(y_test, predTree, target_names=['Class 1', 'Class 2', 'Class 3']))"
   ]
  },
  {
   "cell_type": "markdown",
   "metadata": {},
   "source": [
    "Looking at classification report we notice that the Desicion Tree performs slightly better when predicting classes 1,2 but slighlty worse when predicting class 3. The general perfomace is the same with KNN and Logistic Reggresion (macro avg f1 score = 0.35). "
   ]
  },
  {
   "cell_type": "markdown",
   "metadata": {},
   "source": [
    "<h1>5. Conclusions</h1>\n",
    "\n",
    "In this study, I analyzed the relationship between Accidents Severity and Environmental factors that preceded the accidents, the Drivers personal information and the Timing of the accidents. I identified Light Conditions, the Drivers Age, the Hour of the Day and the Area Type as the most important features that affect Accident frequency and severity. I built classification models to predict the severity of a possible accident.\n",
    " These models can help government organizations to pinpoint dangerous areas or roads and improve road design. Another possibility is the development of an application that is ‘fed’ live data on the environment’s conditions the driver is driving through, his/her personal information and warn them on the danger they are currently facing, in the same way people that smoke are given facts about how smoking hinders their health, on top of the packets. In our case though this could happen through connected cars that have internet access and notify the driver when the danger levels are high or even through mobile phones where a driver can check information on his/her journey’s danger before they start it.\n"
   ]
  },
  {
   "cell_type": "markdown",
   "metadata": {},
   "source": [
    "<h1>6. Future directions</h1>\n",
    "\n",
    "I was able to achieve a 60% accuracy in the classification problem and improve the way the models predicted classes other than Slight accidents. However, the models still struggle to find patterns for Fatal and Serious accidents and poorly predict these classes. There is definitely a need for more data on Fatal and Serious accidents in order to minimize the use of Resampling in our data and improve the models performance.\n",
    "Furthermore, even more features can be collected on the accidents like information on prior to the accident alcohol consumption or drug usage from the driver’s side, on the usage of mobile phones, the frequency and the type of mechanical failures and the amount of passengers inside the vehicle. These data are obviously more difficult to extract but can bring significant improvements to the model.\n"
   ]
  }
 ],
 "metadata": {
  "kernelspec": {
   "display_name": "Python 3",
   "language": "python",
   "name": "python3"
  },
  "language_info": {
   "codemirror_mode": {
    "name": "ipython",
    "version": 3
   },
   "file_extension": ".py",
   "mimetype": "text/x-python",
   "name": "python",
   "nbconvert_exporter": "python",
   "pygments_lexer": "ipython3",
   "version": "3.7.6"
  }
 },
 "nbformat": 4,
 "nbformat_minor": 4
}
